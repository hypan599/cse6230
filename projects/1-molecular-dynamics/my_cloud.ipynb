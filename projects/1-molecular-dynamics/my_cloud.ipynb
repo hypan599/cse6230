{
 "cells": [
  {
   "cell_type": "code",
   "execution_count": null,
   "metadata": {},
   "outputs": [],
   "source": [
    "module use $CSE6230_DIR/modulefiles\n",
    "module load cse6230/core"
   ]
  },
  {
   "cell_type": "code",
   "execution_count": null,
   "metadata": {},
   "outputs": [],
   "source": [
    "OMP_NUM_THREADS=8\n",
    "OMP_PROC_BIND=close\n",
    "\n",
    "FACTOR=1\n",
    "PARTICLES=$(bc <<< \"256 * $FACTOR\")\n",
    "STEPS=$(bc <<< \"25600 / $FACTOR^2\")\n",
    "# CHUNKSIZE=$STEPS\n",
    "CHUNKSIZE=1000\n",
    "LSIZE=`echo \"$FACTOR 0.333 20.\" | awk '{ print ($3 * $1^$2); }'`\n",
    "PERFTOOL=\"perf stat\"\n",
    "# export PERFTOOL=\"hpcrun -t\"\n",
    "echo $PARTICLES,$STEPS,$LSIZE\n",
    "\n",
    "make clean\n",
    "make runcloud DT=1.e-4 K=100. D=1. L=$LSIZE R=1. NP=\"$PARTICLES\" NT=\"$STEPS\" CHUNK=\"$CHUNKSIZE\" PERF=\"$PERFTOOL\" 2>&1\n",
    "make checkcloud NP=512 L=25.198421 NT=51000 CHUNK=1000 | grep \"Diffusion constant\""
   ]
  },
  {
   "cell_type": "code",
   "execution_count": null,
   "metadata": {},
   "outputs": [],
   "source": [
    "TAG=\"opt_14thread\"\n",
    "mv hpctoolkit-cloud-measurements-108152.ice-sched.pace.gatech.edu \"prof_$TAG\"\n",
    "rm -f cloud.hpcstruct\n",
    "hpcstruct cloud\n",
    "hpcprof -S cloud.hpcstruct \"prof_$TAG\"\n",
    "mv hpctoolkit-database \"db_$TAG\""
   ]
  },
  {
   "cell_type": "code",
   "execution_count": null,
   "metadata": {},
   "outputs": [],
   "source": []
  }
 ],
 "metadata": {
  "kernelspec": {
   "display_name": "Bash",
   "language": "bash",
   "name": "bash"
  },
  "language_info": {
   "codemirror_mode": "shell",
   "file_extension": ".sh",
   "mimetype": "text/x-sh",
   "name": "bash"
  }
 },
 "nbformat": 4,
 "nbformat_minor": 2
}
