{
 "cells": [
  {
   "cell_type": "code",
   "execution_count": null,
   "metadata": {},
   "outputs": [],
   "source": [
    "module use $CSE6230_DIR/modulefiles\n",
    "module load cse6230/core"
   ]
  },
  {
   "cell_type": "code",
   "execution_count": 4,
   "metadata": {},
   "outputs": [
    {
     "name": "stdout",
     "output_type": "stream",
     "text": [
      "256,25600,20/\n",
      "rm -f *.o cloud\n",
      "make --silent clean\n",
      "make cloud #--silent cloud\n",
      "make[1]: Entering directory `/nv/coc-ice/hpan48/cse6230/projects/1-molecular-dynamics'\n",
      "icc -std=c99 -g -Wall -fPIC -O3 -xHost -qopt-report=5 -DMY_REMAINDER=1 -DMULTIVECTOR -I../../utils -I../../utils/tictoc  -openmp -c -o verlet.o verlet.c\n",
      "icc: remark #10397: optimization reports are generated in *.optrpt files in the output location\n",
      "icc -std=c99 -g -Wall -fPIC -O3 -xHost -qopt-report=5 -DMY_REMAINDER=1 -DMULTIVECTOR -I../../utils -I../../utils/tictoc  -openmp -c -o accelerate.o accelerate.c\n",
      "icc: remark #10397: optimization reports are generated in *.optrpt files in the output location\n",
      "icc -std=c99 -g -Wall -fPIC -O3 -xHost -qopt-report=5 -DMY_REMAINDER=1 -DMULTIVECTOR -I../../utils -I../../utils/tictoc  -openmp -c -o cloud.o cloud.c\n",
      "icc: remark #10397: optimization reports are generated in *.optrpt files in the output location\n",
      "icc -std=c99 -g -Wall -fPIC -O3 -xHost -qopt-report=5 -DMY_REMAINDER=1 -DMULTIVECTOR -I../../utils -I../../utils/tictoc  -openmp -c -o initialize.o initialize.c\n",
      "icc: remark #10397: optimization reports are generated in *.optrpt files in the output location\n",
      "icc -std=c99 -g -Wall -fPIC -O3 -xHost -qopt-report=5 -DMY_REMAINDER=1 -DMULTIVECTOR -I../../utils -I../../utils/tictoc  -openmp -c -o vector.o vector.c\n",
      "icc: remark #10397: optimization reports are generated in *.optrpt files in the output location\n",
      "icc -std=c99 -g -Wall -fPIC -O3 -xHost -qopt-report=5 -DMY_REMAINDER=1 -DMULTIVECTOR -I../../utils -I../../utils/tictoc  -openmp -c -o cloud_util.o cloud_util.c\n",
      "icc: remark #10397: optimization reports are generated in *.optrpt files in the output location\n",
      "icc -std=c99 -g -Wall -fPIC -O3 -xHost -qopt-report=5 -DMY_REMAINDER=1 -DMULTIVECTOR -I../../utils -I../../utils/tictoc  -openmp -c -o interactions.o interactions.c\n",
      "icc: remark #10397: optimization reports are generated in *.optrpt files in the output location\n",
      "icc -openmp -o cloud verlet.o accelerate.o cloud.o initialize.o vector.o cloud_util.o interactions.o -lm -lrt\n",
      "make[1]: Leaving directory `/nv/coc-ice/hpan48/cse6230/projects/1-molecular-dynamics'\n",
      "perf stat ./cloud 256 25600 1.e-4 100. 1. 20 1.\n",
      "[./cloud] NUM_POINTS=256, NUM_STEPS=25600, CHUNK_SIZE=25600, DT=0.0001, K=100, D=1, L=20, R=1\n",
      "With 256 particles of radius 1 and a box width of 20.000000, the volume fraction is 0.134041.\n",
      "The interaction volume is 33.5103, so we expect 1.07233 interactions per particle, 137.258 overall.\n",
      "\n",
      " Performance counter stats for './cloud 256 25600 1.e-4 100. 1. 20 1.':\n",
      "\n",
      "      76554.783336      task-clock (msec)         #   13.977 CPUs utilized          \n",
      "               267      context-switches          #    0.003 K/sec                  \n",
      "                58      cpu-migrations            #    0.001 K/sec                  \n",
      "             1,203      page-faults               #    0.016 K/sec                  \n",
      "   221,829,092,117      cycles                    #    2.898 GHz                    \n",
      "   <not supported>      stalled-cycles-frontend  \n",
      "   <not supported>      stalled-cycles-backend   \n",
      "   111,598,509,165      instructions              #    0.50  insns per cycle        \n",
      "    26,461,037,602      branches                  #  345.648 M/sec                  \n",
      "       124,141,540      branch-misses             #    0.47% of all branches        \n",
      "\n",
      "       5.477014316 seconds time elapsed\n",
      "\n",
      "icc: remark #10397: optimization reports are generated in *.optrpt files in the output location\n",
      "icc: remark #10397: optimization reports are generated in *.optrpt files in the output location\n",
      "icc: remark #10397: optimization reports are generated in *.optrpt files in the output location\n",
      "icc: remark #10397: optimization reports are generated in *.optrpt files in the output location\n",
      "icc: remark #10397: optimization reports are generated in *.optrpt files in the output location\n",
      "icc: remark #10397: optimization reports are generated in *.optrpt files in the output location\n",
      "icc: remark #10397: optimization reports are generated in *.optrpt files in the output location\n",
      "Diffusion constant: [ 0.98925594]\n"
     ]
    }
   ],
   "source": [
    "OMP_NUM_THREADS=14\n",
    "OMP_PROC_BIND=close\n",
    "\n",
    "FACTOR=1\n",
    "PARTICLES=$(bc <<< \"256 * $FACTOR\")\n",
    "STEPS=$(bc <<< \"25600 / $FACTOR^2\")\n",
    "# CHUNKSIZE=$STEPS\n",
    "CHUNKSIZE=1000\n",
    "LSIZE=`echo \"$FACTOR 0.333 20.\" | awk '{ print ($3 * $1^$2); }'`\n",
    "PERFTOOL=\"perf stat\"\n",
    "# export PERFTOOL=\"hpcrun -t\"\n",
    "echo $PARTICLES,$STEPS,$LSIZE/\n",
    "\n",
    "make clean\n",
    "make runcloud DT=1.e-4 K=100. D=1. L=$LSIZE R=1. NP=\"$PARTICLES\" NT=\"$STEPS\" CHUNK=\"$CHUNKSIZE\" PERF=\"$PERFTOOL\" 2>&1\n",
    "make checkcloud NP=512 L=25.198421 NT=51000 CHUNK=1000 | grep \"Diffusion constant\""
   ]
  },
  {
   "cell_type": "code",
   "execution_count": null,
   "metadata": {},
   "outputs": [],
   "source": [
    "TAG=\"opt_14thread\"\n",
    "mv hpctoolkit-cloud-measurements-108152.ice-sched.pace.gatech.edu \"prof_$TAG\"\n",
    "rm -f cloud.hpcstruct\n",
    "hpcstruct cloud\n",
    "hpcprof -S cloud.hpcstruct \"prof_$TAG\"\n",
    "mv hpctoolkit-database \"db_$TAG\""
   ]
  },
  {
   "cell_type": "code",
   "execution_count": null,
   "metadata": {},
   "outputs": [],
   "source": []
  }
 ],
 "metadata": {
  "kernelspec": {
   "display_name": "Bash",
   "language": "bash",
   "name": "bash"
  },
  "language_info": {
   "codemirror_mode": "shell",
   "file_extension": ".sh",
   "mimetype": "text/x-sh",
   "name": "bash"
  }
 },
 "nbformat": 4,
 "nbformat_minor": 2
}
