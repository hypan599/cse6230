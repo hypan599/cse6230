{
 "cells": [
  {
   "cell_type": "code",
   "execution_count": 1,
   "metadata": {},
   "outputs": [
    {
     "name": "stdout",
     "output_type": "stream",
     "text": [
      " =========================================================================\n",
      "|                                                                         |\n",
      "|       A note about python/3.6:                                          |\n",
      "|       PACE is lacking the staff to install all of the python 3          |\n",
      "|       modules, but we do maintain an anaconda distribution for          |\n",
      "|       both python 2 and python 3. As conda significantly reduces        |\n",
      "|       the overhead with package management, we would much prefer        |\n",
      "|       to maintain python 3 through anaconda.                            |\n",
      "|                                                                         |\n",
      "|       All pace installed modules are visible via the module avail       |\n",
      "|       command.                                                          |\n",
      "|                                                                         |\n",
      " =========================================================================\n"
     ]
    }
   ],
   "source": [
    "module use $CSE6230_DIR/modulefiles\n",
    "module load cse6230/core"
   ]
  },
  {
   "cell_type": "code",
   "execution_count": null,
   "metadata": {
    "scrolled": false
   },
   "outputs": [
    {
     "name": "stdout",
     "output_type": "stream",
     "text": [
      "256,25600,20\n",
      "rm -f *.o cloud\n",
      "make --silent clean\n",
      "make cloud #--silent cloud\n",
      "make[1]: Entering directory `/nv/coc-ice/hpan48/cse6230/projects/1-molecular-dynamics'\n",
      "icc -std=c99 -g -Wall -fPIC -O3 -xHost -qopt-report=5 -DMY_REMAINDER=1 -DMULTIVECTOR -DBOXDIM -I../../utils -I../../utils/tictoc  -openmp -c -o verlet.o verlet.c\n",
      "icc: remark #10397: optimization reports are generated in *.optrpt files in the output location\n",
      "icc -std=c99 -g -Wall -fPIC -O3 -xHost -qopt-report=5 -DMY_REMAINDER=1 -DMULTIVECTOR -DBOXDIM -I../../utils -I../../utils/tictoc  -openmp -c -o accelerate.o accelerate.c\n",
      "icc: remark #10397: optimization reports are generated in *.optrpt files in the output location\n",
      "icc -std=c99 -g -Wall -fPIC -O3 -xHost -qopt-report=5 -DMY_REMAINDER=1 -DMULTIVECTOR -DBOXDIM -I../../utils -I../../utils/tictoc  -openmp -c -o cloud.o cloud.c\n",
      "icc: remark #10397: optimization reports are generated in *.optrpt files in the output location\n",
      "icc -std=c99 -g -Wall -fPIC -O3 -xHost -qopt-report=5 -DMY_REMAINDER=1 -DMULTIVECTOR -DBOXDIM -I../../utils -I../../utils/tictoc  -openmp -c -o initialize.o initialize.c\n",
      "icc: remark #10397: optimization reports are generated in *.optrpt files in the output location\n",
      "icc -std=c99 -g -Wall -fPIC -O3 -xHost -qopt-report=5 -DMY_REMAINDER=1 -DMULTIVECTOR -DBOXDIM -I../../utils -I../../utils/tictoc  -openmp -c -o vector.o vector.c\n",
      "icc: remark #10397: optimization reports are generated in *.optrpt files in the output location\n",
      "icc -std=c99 -g -Wall -fPIC -O3 -xHost -qopt-report=5 -DMY_REMAINDER=1 -DMULTIVECTOR -DBOXDIM -I../../utils -I../../utils/tictoc  -openmp -c -o cloud_util.o cloud_util.c\n",
      "icc: remark #10397: optimization reports are generated in *.optrpt files in the output location\n",
      "icc -std=c99 -g -Wall -fPIC -O3 -xHost -qopt-report=5 -DMY_REMAINDER=1 -DMULTIVECTOR -DBOXDIM -I../../utils -I../../utils/tictoc  -openmp -c -o interactions.o interactions.c\n",
      "icc: remark #10397: optimization reports are generated in *.optrpt files in the output location\n",
      "icc -openmp -o cloud verlet.o accelerate.o cloud.o initialize.o vector.o cloud_util.o interactions.o -lm -lrt\n",
      "make[1]: Leaving directory `/nv/coc-ice/hpan48/cse6230/projects/1-molecular-dynamics'\n",
      "perf stat ./cloud 256 25600 1.e-4 100. 1. 20 1.\n",
      "[./cloud] NUM_POINTS=256, NUM_STEPS=25600, CHUNK_SIZE=25600, DT=0.0001, K=100, D=1, L=20, R=1\n",
      "With 256 particles of radius 1 and a box width of 20.000000, the volume fraction is 0.134041.\n",
      "The interaction volume is 33.5103, so we expect 1.07233 interactions per particle, 137.258 overall.\n"
     ]
    }
   ],
   "source": [
    "OMP_NUM_THREADS=14\n",
    "OMP_PROC_BIND=close\n",
    "\n",
    "FACTOR=1\n",
    "PARTICLES=$(bc <<< \"256 * $FACTOR\")\n",
    "STEPS=$(bc <<< \"25600 / $FACTOR^2\")\n",
    "CHUNKSIZE=$STEPS\n",
    "# CHUNKSIZE=1000\n",
    "LSIZE=`echo \"$FACTOR 0.333 20.\" | awk '{ print ($3 * $1^$2); }'`\n",
    "PERFTOOL=\"perf stat\"\n",
    "# PERFTOOL=\"hpcrun -t\"\n",
    "echo $PARTICLES,$STEPS,$LSIZE\n",
    "\n",
    "# for i in {2..16..6}\n",
    "# do\n",
    "make clean\n",
    "make runcloud L=$LSIZE NP=\"$PARTICLES\" NT=\"$STEPS\" PERF=\"$PERFTOOL\"\n",
    "echo \"with $OMP_NUM_THREADS threads\"\n",
    "make checkcloud NP=512 L=25.198421 NT=51000 CHUNK=1000 2>&1 | grep \"Diffusion constant\"\n",
    "echo \"------------\"\n",
    "# done"
   ]
  },
  {
   "cell_type": "code",
   "execution_count": 8,
   "metadata": {},
   "outputs": [
    {
     "name": "stdout",
     "output_type": "stream",
     "text": [
      "msg: STRUCTURE: /nv/coc-ice/hpan48/cse6230/projects/1-molecular-dynamics/cloud\n",
      "msg: Line map : /nv/coc-ice/tisaac3/opt/pace-ice/hpctoolkit/lib/hpctoolkit/ext-libs/libmonitor.so.0.0.0\n",
      "msg: Line map : /nv/usr-local-rhel6.7/pacerepov1/intel/compiler/16.0/compilers_and_libraries_2016.0.109/linux/compiler/lib/intel64_lin/libiomp5.so\n",
      "msg: Line map : /lib64/libc-2.12.so\n",
      "msg: Line map : /lib64/ld-2.12.so\n",
      "msg: Populating Experiment database: /nv/coc-ice/hpan48/cse6230/projects/1-molecular-dynamics/hpctoolkit-database\n"
     ]
    }
   ],
   "source": [
    "TAG=\"ORI\"\n",
    "mv hpctoolkit-cloud-measurements-*.ice-sched.pace.gatech.edu \"prof_$TAG\"\n",
    "rm -f cloud.hpcstruct\n",
    "hpcstruct cloud\n",
    "hpcprof -S cloud.hpcstruct \"prof_$TAG\"\n",
    "mv hpctoolkit-database \"db_$TAG\""
   ]
  },
  {
   "cell_type": "code",
   "execution_count": 11,
   "metadata": {},
   "outputs": [],
   "source": [
    "rm -rf *ORI"
   ]
  },
  {
   "cell_type": "code",
   "execution_count": 12,
   "metadata": {},
   "outputs": [
    {
     "name": "stdout",
     "output_type": "stream",
     "text": [
      "accelerate.c\t   cloud_util.h       interactions.optrpt\tvector.h\n",
      "accelerate.h\t   cloud_util.o       Makefile\t\t\tvector.o\n",
      "accelerate.o\t   cloud_util.optrpt  Makefile.gcc\t\tvector.optrpt\n",
      "accelerate.optrpt  db_PGET\t      Makefile.intel\t\tverlet.c\n",
      "check.py\t   initialize.c       molecular-dynamics.ipynb\tverlet.h\n",
      "cloud\t\t   initialize.h       my_cloud.ipynb\t\tverlet.o\n",
      "cloud.c\t\t   initialize.o       needOptGetPairs.png\tverlet.optrpt\n",
      "cloud.hpcstruct    initialize.optrpt  prof_PGET\t\t\tviz.py\n",
      "cloud.o\t\t   interactions.c     report.md\t\t\twith.log\n",
      "cloud.optrpt\t   interactions.h     steric.h\t\t\twithout.log\n",
      "cloud_util.c\t   interactions.o     vector.c\n"
     ]
    }
   ],
   "source": [
    "ls"
   ]
  },
  {
   "cell_type": "code",
   "execution_count": null,
   "metadata": {},
   "outputs": [],
   "source": []
  }
 ],
 "metadata": {
  "kernelspec": {
   "display_name": "Bash",
   "language": "bash",
   "name": "bash"
  },
  "language_info": {
   "codemirror_mode": "shell",
   "file_extension": ".sh",
   "mimetype": "text/x-sh",
   "name": "bash"
  }
 },
 "nbformat": 4,
 "nbformat_minor": 2
}
