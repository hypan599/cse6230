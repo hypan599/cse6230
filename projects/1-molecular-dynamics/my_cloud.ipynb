{
 "cells": [
  {
   "cell_type": "code",
   "execution_count": 20,
   "metadata": {},
   "outputs": [
    {
     "name": "stdout",
     "output_type": "stream",
     "text": [
      " =========================================================================\n",
      "|                                                                         |\n",
      "|       A note about python/3.6:                                          |\n",
      "|       PACE is lacking the staff to install all of the python 3          |\n",
      "|       modules, but we do maintain an anaconda distribution for          |\n",
      "|       both python 2 and python 3. As conda significantly reduces        |\n",
      "|       the overhead with package management, we would much prefer        |\n",
      "|       to maintain python 3 through anaconda.                            |\n",
      "|                                                                         |\n",
      "|       All pace installed modules are visible via the module avail       |\n",
      "|       command.                                                          |\n",
      "|                                                                         |\n",
      " =========================================================================\n"
     ]
    }
   ],
   "source": [
    "module use $CSE6230_DIR/modulefiles\n",
    "module load cse6230/core"
   ]
  },
  {
   "cell_type": "code",
   "execution_count": 23,
   "metadata": {
    "scrolled": false
   },
   "outputs": [
    {
     "name": "stdout",
     "output_type": "stream",
     "text": [
      "256,25600,20\n",
      "rm -f *.o cloud\n",
      "make --silent clean\n",
      "make cloud #--silent cloud\n",
      "make[1]: Entering directory `/nv/coc-ice/hpan48/cse6230/projects/1-molecular-dynamics'\n",
      "icc -std=c99 -g -Wall -fPIC -O3 -xHost -qopt-report=5 -DMY_REMAINDER=1 -DMULTIVECTOR -DBOXDIM -I../../utils -I../../utils/tictoc  -openmp -c -o verlet.o verlet.c\n",
      "icc: remark #10397: optimization reports are generated in *.optrpt files in the output location\n",
      "icc -std=c99 -g -Wall -fPIC -O3 -xHost -qopt-report=5 -DMY_REMAINDER=1 -DMULTIVECTOR -DBOXDIM -I../../utils -I../../utils/tictoc  -openmp -c -o accelerate.o accelerate.c\n",
      "icc: remark #10397: optimization reports are generated in *.optrpt files in the output location\n",
      "icc -std=c99 -g -Wall -fPIC -O3 -xHost -qopt-report=5 -DMY_REMAINDER=1 -DMULTIVECTOR -DBOXDIM -I../../utils -I../../utils/tictoc  -openmp -c -o cloud.o cloud.c\n",
      "icc: remark #10397: optimization reports are generated in *.optrpt files in the output location\n",
      "icc -std=c99 -g -Wall -fPIC -O3 -xHost -qopt-report=5 -DMY_REMAINDER=1 -DMULTIVECTOR -DBOXDIM -I../../utils -I../../utils/tictoc  -openmp -c -o initialize.o initialize.c\n",
      "icc: remark #10397: optimization reports are generated in *.optrpt files in the output location\n",
      "icc -std=c99 -g -Wall -fPIC -O3 -xHost -qopt-report=5 -DMY_REMAINDER=1 -DMULTIVECTOR -DBOXDIM -I../../utils -I../../utils/tictoc  -openmp -c -o vector.o vector.c\n",
      "icc: remark #10397: optimization reports are generated in *.optrpt files in the output location\n",
      "icc -std=c99 -g -Wall -fPIC -O3 -xHost -qopt-report=5 -DMY_REMAINDER=1 -DMULTIVECTOR -DBOXDIM -I../../utils -I../../utils/tictoc  -openmp -c -o cloud_util.o cloud_util.c\n",
      "icc: remark #10397: optimization reports are generated in *.optrpt files in the output location\n",
      "icc -std=c99 -g -Wall -fPIC -O3 -xHost -qopt-report=5 -DMY_REMAINDER=1 -DMULTIVECTOR -DBOXDIM -I../../utils -I../../utils/tictoc  -openmp -c -o interactions.o interactions.c\n",
      "icc: remark #10397: optimization reports are generated in *.optrpt files in the output location\n",
      "icc -openmp -o cloud verlet.o accelerate.o cloud.o initialize.o vector.o cloud_util.o interactions.o -lm -lrt\n",
      "make[1]: Leaving directory `/nv/coc-ice/hpan48/cse6230/projects/1-molecular-dynamics'\n",
      "perf stat ./cloud 256 25600 1.e-4 100. 1. 20 1.\n",
      "[./cloud] NUM_POINTS=256, NUM_STEPS=25600, CHUNK_SIZE=25600, DT=0.0001, K=100, D=1, L=20, R=1\n",
      "With 256 particles of radius 1 and a box width of 20.000000, the volume fraction is 0.134041.\n",
      "The interaction volume is 33.5103, so we expect 1.07233 interactions per particle, 137.258 overall.\n",
      "\n",
      " Performance counter stats for './cloud 256 25600 1.e-4 100. 1. 20 1.':\n",
      "\n",
      "     151650.314417      task-clock (msec)         #   15.977 CPUs utilized          \n",
      "               445      context-switches          #    0.003 K/sec                  \n",
      "                71      cpu-migrations            #    0.000 K/sec                  \n",
      "             5,510      page-faults               #    0.036 K/sec                  \n",
      "   439,439,540,730      cycles                    #    2.898 GHz                    \n",
      "   <not supported>      stalled-cycles-frontend  \n",
      "   <not supported>      stalled-cycles-backend   \n",
      "   408,079,681,998      instructions              #    0.93  insns per cycle        \n",
      "   105,917,987,552      branches                  #  698.436 M/sec                  \n",
      "       111,161,510      branch-misses             #    0.10% of all branches        \n",
      "\n",
      "       9.491882664 seconds time elapsed\n",
      "\n",
      "with 16 threads\n",
      "icc: remark #10397: optimization reports are generated in *.optrpt files in the output location\n",
      "icc: remark #10397: optimization reports are generated in *.optrpt files in the output location\n",
      "icc: remark #10397: optimization reports are generated in *.optrpt files in the output location\n",
      "icc: remark #10397: optimization reports are generated in *.optrpt files in the output location\n",
      "icc: remark #10397: optimization reports are generated in *.optrpt files in the output location\n",
      "icc: remark #10397: optimization reports are generated in *.optrpt files in the output location\n",
      "icc: remark #10397: optimization reports are generated in *.optrpt files in the output location\n",
      "Diffusion constant: [ 0.88535185]\n",
      "------------\n"
     ]
    }
   ],
   "source": [
    "OMP_PROC_BIND=close\n",
    "\n",
    "FACTOR=1\n",
    "PARTICLES=$(bc <<< \"256 * $FACTOR\")\n",
    "STEPS=$(bc <<< \"25600 / $FACTOR^2\")\n",
    "CHUNKSIZE=$STEPS\n",
    "# CHUNKSIZE=1000\n",
    "LSIZE=`echo \"$FACTOR 0.333 20.\" | awk '{ print ($3 * $1^$2); }'`\n",
    "PERFTOOL=\"perf stat\"\n",
    "# PERFTOOL=\"hpcrun -t\"\n",
    "echo $PARTICLES,$STEPS,$LSIZE\n",
    "\n",
    "# for i in {2..16..6}\n",
    "# do\n",
    "OMP_NUM_THREADS=16\n",
    "make clean\n",
    "make runcloud L=$LSIZE NP=\"$PARTICLES\" NT=\"$STEPS\" PERF=\"$PERFTOOL\"\n",
    "echo \"with $OMP_NUM_THREADS threads\"\n",
    "make checkcloud NP=512 L=25.198421 NT=51000 CHUNK=1000 | grep \"Diffusion constant\"\n",
    "echo \"------------\"\n",
    "# done"
   ]
  },
  {
   "cell_type": "code",
   "execution_count": 8,
   "metadata": {},
   "outputs": [
    {
     "name": "stdout",
     "output_type": "stream",
     "text": [
      "mv: cannot stat `hpctoolkit-cloud-measurements-*.ice-sched.pace.gatech.edu': No such file or directory\n",
      "msg: STRUCTURE: /nv/coc-ice/hpan48/cse6230/projects/1-molecular-dynamics/cloud\n",
      "msg: Line map : /nv/coc-ice/tisaac3/opt/pace-ice/hpctoolkit/lib/hpctoolkit/ext-libs/libmonitor.so.0.0.0\n",
      "msg: Line map : /nv/usr-local-rhel6.7/pacerepov1/intel/compiler/16.0/compilers_and_libraries_2016.0.109/linux/compiler/lib/intel64_lin/libiomp5.so\n",
      "msg: Line map : /lib64/libc-2.12.so\n",
      "msg: Line map : /lib64/ld-2.12.so\n",
      "msg: Populating Experiment database: /nv/coc-ice/hpan48/cse6230/projects/1-molecular-dynamics/hpctoolkit-database\n"
     ]
    }
   ],
   "source": [
    "TAG=\"PGET\"\n",
    "mv hpctoolkit-cloud-measurements-*.ice-sched.pace.gatech.edu \"prof_$TAG\"\n",
    "rm -f cloud.hpcstruct\n",
    "hpcstruct cloud\n",
    "hpcprof -S cloud.hpcstruct \"prof_$TAG\"\n",
    "mv hpctoolkit-database \"db_$TAG\""
   ]
  },
  {
   "cell_type": "code",
   "execution_count": 5,
   "metadata": {},
   "outputs": [
    {
     "name": "stdout",
     "output_type": "stream",
     "text": [
      "accelerate.c\n",
      "accelerate.h\n",
      "accelerate.o\n",
      "accelerate.optrpt\n",
      "check.py\n",
      "cloud\n",
      "cloud.c\n",
      "cloud.hpcstruct\n",
      "cloud.o\n",
      "cloud.optrpt\n",
      "cloud_util.c\n",
      "cloud_util.h\n",
      "cloud_util.o\n",
      "cloud_util.optrpt\n",
      "hpctoolkit-cloud-measurements-129769.ice-sched.pace.gatech.edu\n",
      "initialize.c\n",
      "initialize.h\n",
      "initialize.o\n",
      "initialize.optrpt\n",
      "interactions.c\n",
      "interactions.h\n",
      "interactions.o\n",
      "interactions.optrpt\n",
      "Makefile\n",
      "Makefile.gcc\n",
      "Makefile.intel\n",
      "molecular-dynamics.ipynb\n",
      "my_cloud.ipynb\n",
      "needOptGetPairs.png\n",
      "report.md\n",
      "steric.h\n",
      "vector.c\n",
      "vector.h\n",
      "vector.o\n",
      "vector.optrpt\n",
      "verlet.c\n",
      "verlet.h\n",
      "verlet.o\n",
      "verlet.optrpt\n",
      "viz.py\n",
      "with.log\n",
      "without.log\n"
     ]
    }
   ],
   "source": [
    "ls"
   ]
  },
  {
   "cell_type": "code",
   "execution_count": null,
   "metadata": {},
   "outputs": [],
   "source": []
  }
 ],
 "metadata": {
  "kernelspec": {
   "display_name": "Bash",
   "language": "bash",
   "name": "bash"
  },
  "language_info": {
   "codemirror_mode": "shell",
   "file_extension": ".sh",
   "mimetype": "text/x-sh",
   "name": "bash"
  }
 },
 "nbformat": 4,
 "nbformat_minor": 2
}
