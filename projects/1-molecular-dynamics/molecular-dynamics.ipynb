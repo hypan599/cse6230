{
 "cells": [
  {
   "cell_type": "markdown",
   "metadata": {},
   "source": [
    "# Project 1: Molecular Dynamics with OpenMP\n",
    "\n",
    "This assignment is due in two weeks time, by **9:30 am on Thursday October 3rd**.\n",
    "\n",
    "**You may work in pairs on this assignment:** When you officially submit this project on Canvas, you should indicate in the text submission field on Canvas:\n",
    "\n",
    "- Who, if anyone you are working with\n",
    "- If you are working in pairs, indicater whether the repository to be graded is yours or your partner's.\n",
    "- Which commit of your repository you would like to be graded (we will grade the `master` branch by default if no choice is made)"
   ]
  },
  {
   "cell_type": "markdown",
   "metadata": {},
   "source": [
    "**Which type of node are you using?** Because OpenMP can be used to program the GPUs, you may choose to optimize the application for any of the three types of nodes used in this class.  Declare the type of node you would like to use here:\n",
    "\n",
    "**This notebook should be run on a node with 28 CPU cores and No \\_ Tesla \\_\\_\\_\\_ GPUs**"
   ]
  },
  {
   "cell_type": "markdown",
   "metadata": {
    "slideshow": {
     "slide_type": "slide"
    }
   },
   "source": [
    "If you will not use the GPUs, you should use the following modules:"
   ]
  },
  {
   "cell_type": "code",
   "execution_count": 1,
   "metadata": {},
   "outputs": [
    {
     "name": "stdout",
     "output_type": "stream",
     "text": [
      " =========================================================================\n",
      "|                                                                         |\n",
      "|       A note about python/3.6:                                          |\n",
      "|       PACE is lacking the staff to install all of the python 3          |\n",
      "|       modules, but we do maintain an anaconda distribution for          |\n",
      "|       both python 2 and python 3. As conda significantly reduces        |\n",
      "|       the overhead with package management, we would much prefer        |\n",
      "|       to maintain python 3 through anaconda.                            |\n",
      "|                                                                         |\n",
      "|       All pace installed modules are visible via the module avail       |\n",
      "|       command.                                                          |\n",
      "|                                                                         |\n",
      " =========================================================================\n"
     ]
    }
   ],
   "source": [
    "module use $CSE6230_DIR/modulefiles\n",
    "module load cse6230/core"
   ]
  },
  {
   "cell_type": "markdown",
   "metadata": {},
   "source": [
    "If you will use the GPUs, you should use the following modules:"
   ]
  },
  {
   "cell_type": "code",
   "execution_count": null,
   "metadata": {},
   "outputs": [],
   "source": [
    "# module use $CSE6230_DIR/modulefiles\n",
    "# module load cse6230/gcc-omp-gpu"
   ]
  },
  {
   "cell_type": "markdown",
   "metadata": {},
   "source": [
    "(I've included a set of makefile rules for GNU-based builds: you can use `make MAKERULES=gcc` wherever you would use make and it should work.  You should do this if you are using the `gcc-omp-gpu` module or if you are developing on your laptop and don't have the intel compilers)\n",
    "\n",
    "## About this program\n",
    "\n",
    "The code for this assignment started out almost exactly the same as your third assignment with interacting particles.  We saw in that assignment the way that $O(n^2)$ interactions in an $n$-body simulation dominate the rest of the operations.  This project shows an attempt to return that work complexity from $O(n^2)$ back down to $O(n)$ or thereabouts.\n",
    "  \n",
    "Some of the potentials that define interactions in molecular dynamics decay *quite* rapidly.  So rapidly, that it is not a terrible approximation to assign to each particle an effective **radius $r$**.  If two particles are not touching (that is if their centers are more than $2r$ apart), then the interactions can safely be ignored (particularly if it will be drowned out relative to the background *Brownian* noise that we saw last week).  In side of $2r$, then the overlapping particles start pushing each other apart.\n",
    "\n",
    "If you'd like to see the particulars of this assignments force due to interactions, you can look at `steric.h`, so called because the force approximate [steric effects](https://en.wikipedia.org/wiki/Steric_effects)."
   ]
  },
  {
   "cell_type": "code",
   "execution_count": null,
   "metadata": {},
   "outputs": [],
   "source": [
    "# pygmentize steric.h"
   ]
  },
  {
   "cell_type": "markdown",
   "metadata": {},
   "source": [
    "(If you find part of your program is compute bound, you are welcome to change the implementations in `steric.h`, as long as your still calculate the same function)"
   ]
  },
  {
   "cell_type": "markdown",
   "metadata": {},
   "source": [
    "Now, suppose that our particles bounce around and repel each other until they are roughly in equilibrium.  We would expect that they would be well spread out, and that the chance of any two particles interacting would be no more likely than two particles placed at random.\n",
    "\n",
    "A particle interacts with any particle within a range of $2*r$, which means that around each particle there is a sphere with volume $V_p = \\frac{4}{3}\\pi (2r)^3\\approx 33 r^3$: any particle whose center is outside of that cell does not interact.  Suppose the volume of the periodic domain is $V_D$, and there are $N_p$ particles.  Then if the other $N_p - 1$ particles are distributed at random, then we expect $V_p (N_p - 1)/ V_D$ of those particles to interact with the particle in question.  Therefore we might expect $N_p V_p (N_p - 1) / 2 V_D$ interactions in total.\n",
    "\n",
    "What's the point of this calculation?  Well, when run a periodic simulation, we are trying to approximate a larger domain with a fixed *density* of particles per volume.  Thus, if we consider $\\phi = N_p/ V_D$ to be a fixed density of the problem we are trying to simulate, then the number of interactions is $\\approx (N_p - 1) \\phi / 2$.\n",
    "*We should expect the number of interactions to scale linearly with the number of particles if we keep $\\phi$ fixed.*"
   ]
  },
  {
   "cell_type": "markdown",
   "metadata": {},
   "source": [
    "So how can we exploit the fact that only $O(N_p)$ interactions are expected instead of $O(N_p^2)$?  In our acceleration routine, we should try to rule out particles from interacting with each other.\n",
    "\n",
    "One way to do this is *binning*: we divide up our periodic domain $[-L/2,L/2)^3$ into a grid of $b$ boxes per dimension, $b^3$ boxes total.  An algorithm would look like the following:\n",
    "\n",
    "1. Given each particles coordinates, assign it to the appropriate box.\n",
    "2. If the length of a box $(L / b)$ is longer than $2r$, then every particle can only interact with particles\n",
    "  - In its own box,\n",
    "  - In neighboring boxes\n",
    "3. So loop over neighboring boxes and create a list of *pairs of particles* that are close enough to interact."
   ]
  },
  {
   "cell_type": "markdown",
   "metadata": {},
   "source": [
    "This is what is done now in `accelerate.c`: there is an interaction \"object\" that handles the internals of binning particles into boxes: it returns a list of pairs on request.\n",
    "\n",
    "The previous $O(N_p^2)$ calculation is available for comparison and debugging purposes."
   ]
  },
  {
   "cell_type": "code",
   "execution_count": null,
   "metadata": {},
   "outputs": [],
   "source": [
    "# sed -n '54,85 p' accelerate.c | pygmentize -l c"
   ]
  },
  {
   "cell_type": "markdown",
   "metadata": {},
   "source": [
    "## Your task\n",
    "\n",
    "You're free to make just about any changes you'd like to the code.  The `cloud` program is currently a functioning serial program with a small amount of OpenMP already mixed in.  Below is a sequence of problems of increasing size $N_p$ but fixed density.\n",
    "\n",
    "You should specify OpenMP environment variables before this loop that will be used by the programs."
   ]
  },
  {
   "cell_type": "code",
   "execution_count": null,
   "metadata": {},
   "outputs": [],
   "source": [
    "export OMP_NUM_THREADS=8\n",
    "export OMP_PROC_BIND=close"
   ]
  },
  {
   "cell_type": "code",
   "execution_count": 1,
   "metadata": {
    "scrolled": false
   },
   "outputs": [
    {
     "name": "stdout",
     "output_type": "stream",
     "text": [
      "make --silent clean\n",
      "make cloud #--silent cloud\n",
      "make[1]: Entering directory `/nv/coc-ice/bzhang376/cse6230/projects/1-molecular-dynamics'\n",
      "icc -std=c99 -g -Wall -fPIC -O3 -xHost -qopt-report=5 -DMY_REMAINDER=1 -DMULTIVECTOR -DUPDATEINTERVAL=6 -I../../utils -I../../utils/tictoc  -openmp -c -o verlet.o verlet.c\n",
      "icc: remark #10397: optimization reports are generated in *.optrpt files in the output location\n",
      "icc -std=c99 -g -Wall -fPIC -O3 -xHost -qopt-report=5 -DMY_REMAINDER=1 -DMULTIVECTOR -DUPDATEINTERVAL=6 -I../../utils -I../../utils/tictoc  -openmp -c -o accelerate.o accelerate.c\n",
      "icc: remark #10397: optimization reports are generated in *.optrpt files in the output location\n",
      "icc -std=c99 -g -Wall -fPIC -O3 -xHost -qopt-report=5 -DMY_REMAINDER=1 -DMULTIVECTOR -DUPDATEINTERVAL=6 -I../../utils -I../../utils/tictoc  -openmp -c -o cloud.o cloud.c\n",
      "icc: remark #10397: optimization reports are generated in *.optrpt files in the output location\n",
      "icc -std=c99 -g -Wall -fPIC -O3 -xHost -qopt-report=5 -DMY_REMAINDER=1 -DMULTIVECTOR -DUPDATEINTERVAL=6 -I../../utils -I../../utils/tictoc  -openmp -c -o initialize.o initialize.c\n",
      "icc: remark #10397: optimization reports are generated in *.optrpt files in the output location\n",
      "icc -std=c99 -g -Wall -fPIC -O3 -xHost -qopt-report=5 -DMY_REMAINDER=1 -DMULTIVECTOR -DUPDATEINTERVAL=6 -I../../utils -I../../utils/tictoc  -openmp -c -o vector.o vector.c\n",
      "icc: remark #10397: optimization reports are generated in *.optrpt files in the output location\n",
      "icc -std=c99 -g -Wall -fPIC -O3 -xHost -qopt-report=5 -DMY_REMAINDER=1 -DMULTIVECTOR -DUPDATEINTERVAL=6 -I../../utils -I../../utils/tictoc  -openmp -c -o cloud_util.o cloud_util.c\n",
      "icc: remark #10397: optimization reports are generated in *.optrpt files in the output location\n",
      "icc -std=c99 -g -Wall -fPIC -O3 -xHost -qopt-report=5 -DMY_REMAINDER=1 -DMULTIVECTOR -DUPDATEINTERVAL=6 -I../../utils -I../../utils/tictoc  -openmp -c -o interactions.o interactions.c\n",
      "icc: remark #10397: optimization reports are generated in *.optrpt files in the output location\n",
      "icc -openmp -o cloud verlet.o accelerate.o cloud.o initialize.o vector.o cloud_util.o interactions.o -lm -lrt\n",
      "make[1]: Leaving directory `/nv/coc-ice/bzhang376/cse6230/projects/1-molecular-dynamics'\n",
      "perf stat ./cloud 256 25600 1.e-4 100. 1. 20 1.\n",
      "[./cloud] NUM_POINTS=256, NUM_STEPS=25600, CHUNK_SIZE=25600, DT=0.0001, K=100, D=1, L=20, R=1\n",
      "With 256 particles of radius 1 and a box width of 20.000000, the volume fraction is 0.134041.\n",
      "The interaction volume is 33.5103, so we expect 1.07233 interactions per particle, 137.258 overall.\n",
      "\n",
      " Performance counter stats for './cloud 256 25600 1.e-4 100. 1. 20 1.':\n",
      "\n",
      "       1275.870722      task-clock (msec)         #    0.999 CPUs utilized          \n",
      "                31      context-switches          #    0.024 K/sec                  \n",
      "                 1      cpu-migrations            #    0.001 K/sec                  \n",
      "               757      page-faults               #    0.593 K/sec                  \n",
      "     4,203,394,205      cycles                    #    3.295 GHz                    \n",
      "   <not supported>      stalled-cycles-frontend  \n",
      "   <not supported>      stalled-cycles-backend   \n",
      "     4,853,566,703      instructions              #    1.15  insns per cycle        \n",
      "       279,589,365      branches                  #  219.136 M/sec                  \n",
      "        30,025,429      branch-misses             #  \u001b[35m 10.74%\u001b[m of all branches        \n",
      "\n",
      "       1.277008516 seconds time elapsed\n",
      "\n",
      "make --silent clean\n",
      "make cloud #--silent cloud\n",
      "make[1]: Entering directory `/nv/coc-ice/bzhang376/cse6230/projects/1-molecular-dynamics'\n",
      "icc -std=c99 -g -Wall -fPIC -O3 -xHost -qopt-report=5 -DMY_REMAINDER=1 -DMULTIVECTOR -DUPDATEINTERVAL=6 -I../../utils -I../../utils/tictoc  -openmp -c -o verlet.o verlet.c\n",
      "icc: remark #10397: optimization reports are generated in *.optrpt files in the output location\n",
      "icc -std=c99 -g -Wall -fPIC -O3 -xHost -qopt-report=5 -DMY_REMAINDER=1 -DMULTIVECTOR -DUPDATEINTERVAL=6 -I../../utils -I../../utils/tictoc  -openmp -c -o accelerate.o accelerate.c\n",
      "icc: remark #10397: optimization reports are generated in *.optrpt files in the output location\n",
      "icc -std=c99 -g -Wall -fPIC -O3 -xHost -qopt-report=5 -DMY_REMAINDER=1 -DMULTIVECTOR -DUPDATEINTERVAL=6 -I../../utils -I../../utils/tictoc  -openmp -c -o cloud.o cloud.c\n",
      "icc: remark #10397: optimization reports are generated in *.optrpt files in the output location\n",
      "icc -std=c99 -g -Wall -fPIC -O3 -xHost -qopt-report=5 -DMY_REMAINDER=1 -DMULTIVECTOR -DUPDATEINTERVAL=6 -I../../utils -I../../utils/tictoc  -openmp -c -o initialize.o initialize.c\n",
      "icc: remark #10397: optimization reports are generated in *.optrpt files in the output location\n",
      "icc -std=c99 -g -Wall -fPIC -O3 -xHost -qopt-report=5 -DMY_REMAINDER=1 -DMULTIVECTOR -DUPDATEINTERVAL=6 -I../../utils -I../../utils/tictoc  -openmp -c -o vector.o vector.c\n",
      "icc: remark #10397: optimization reports are generated in *.optrpt files in the output location\n",
      "icc -std=c99 -g -Wall -fPIC -O3 -xHost -qopt-report=5 -DMY_REMAINDER=1 -DMULTIVECTOR -DUPDATEINTERVAL=6 -I../../utils -I../../utils/tictoc  -openmp -c -o cloud_util.o cloud_util.c\n",
      "icc: remark #10397: optimization reports are generated in *.optrpt files in the output location\n",
      "icc -std=c99 -g -Wall -fPIC -O3 -xHost -qopt-report=5 -DMY_REMAINDER=1 -DMULTIVECTOR -DUPDATEINTERVAL=6 -I../../utils -I../../utils/tictoc  -openmp -c -o interactions.o interactions.c\n",
      "icc: remark #10397: optimization reports are generated in *.optrpt files in the output location\n",
      "icc -openmp -o cloud verlet.o accelerate.o cloud.o initialize.o vector.o cloud_util.o interactions.o -lm -lrt\n",
      "make[1]: Leaving directory `/nv/coc-ice/bzhang376/cse6230/projects/1-molecular-dynamics'\n",
      "perf stat ./cloud 512 6400 1.e-4 100. 1. 25.1926 1.\n",
      "[./cloud] NUM_POINTS=512, NUM_STEPS=6400, CHUNK_SIZE=6400, DT=0.0001, K=100, D=1, L=25.1926, R=1\n",
      "With 512 particles of radius 1 and a box width of 25.192600, the volume fraction is 0.134134.\n",
      "The interaction volume is 33.5103, so we expect 1.07307 interactions per particle, 274.707 overall.\n",
      "\n",
      " Performance counter stats for './cloud 512 6400 1.e-4 100. 1. 25.1926 1.':\n",
      "\n",
      "        561.335888      task-clock (msec)         #    0.997 CPUs utilized          \n",
      "                30      context-switches          #    0.053 K/sec                  \n",
      "                 0      cpu-migrations            #    0.000 K/sec                  \n",
      "               698      page-faults               #    0.001 M/sec                  \n",
      "     1,846,016,966      cycles                    #    3.289 GHz                    \n",
      "   <not supported>      stalled-cycles-frontend  \n",
      "   <not supported>      stalled-cycles-backend   \n",
      "     2,292,114,284      instructions              #    1.24  insns per cycle        \n",
      "       128,748,286      branches                  #  229.361 M/sec                  \n",
      "        11,999,788      branch-misses             #  \u001b[33m  9.32%\u001b[m of all branches        \n",
      "\n",
      "       0.562874230 seconds time elapsed\n",
      "\n",
      "make --silent clean\n",
      "make cloud #--silent cloud\n",
      "make[1]: Entering directory `/nv/coc-ice/bzhang376/cse6230/projects/1-molecular-dynamics'\n",
      "icc -std=c99 -g -Wall -fPIC -O3 -xHost -qopt-report=5 -DMY_REMAINDER=1 -DMULTIVECTOR -DUPDATEINTERVAL=6 -I../../utils -I../../utils/tictoc  -openmp -c -o verlet.o verlet.c\n",
      "icc: remark #10397: optimization reports are generated in *.optrpt files in the output location\n",
      "icc -std=c99 -g -Wall -fPIC -O3 -xHost -qopt-report=5 -DMY_REMAINDER=1 -DMULTIVECTOR -DUPDATEINTERVAL=6 -I../../utils -I../../utils/tictoc  -openmp -c -o accelerate.o accelerate.c\n",
      "icc: remark #10397: optimization reports are generated in *.optrpt files in the output location\n",
      "icc -std=c99 -g -Wall -fPIC -O3 -xHost -qopt-report=5 -DMY_REMAINDER=1 -DMULTIVECTOR -DUPDATEINTERVAL=6 -I../../utils -I../../utils/tictoc  -openmp -c -o cloud.o cloud.c\n",
      "icc: remark #10397: optimization reports are generated in *.optrpt files in the output location\n",
      "icc -std=c99 -g -Wall -fPIC -O3 -xHost -qopt-report=5 -DMY_REMAINDER=1 -DMULTIVECTOR -DUPDATEINTERVAL=6 -I../../utils -I../../utils/tictoc  -openmp -c -o initialize.o initialize.c\n",
      "icc: remark #10397: optimization reports are generated in *.optrpt files in the output location\n"
     ]
    },
    {
     "name": "stdout",
     "output_type": "stream",
     "text": [
      "icc -std=c99 -g -Wall -fPIC -O3 -xHost -qopt-report=5 -DMY_REMAINDER=1 -DMULTIVECTOR -DUPDATEINTERVAL=6 -I../../utils -I../../utils/tictoc  -openmp -c -o vector.o vector.c\n",
      "icc: remark #10397: optimization reports are generated in *.optrpt files in the output location\n",
      "icc -std=c99 -g -Wall -fPIC -O3 -xHost -qopt-report=5 -DMY_REMAINDER=1 -DMULTIVECTOR -DUPDATEINTERVAL=6 -I../../utils -I../../utils/tictoc  -openmp -c -o cloud_util.o cloud_util.c\n",
      "icc: remark #10397: optimization reports are generated in *.optrpt files in the output location\n",
      "icc -std=c99 -g -Wall -fPIC -O3 -xHost -qopt-report=5 -DMY_REMAINDER=1 -DMULTIVECTOR -DUPDATEINTERVAL=6 -I../../utils -I../../utils/tictoc  -openmp -c -o interactions.o interactions.c\n",
      "icc: remark #10397: optimization reports are generated in *.optrpt files in the output location\n",
      "icc -openmp -o cloud verlet.o accelerate.o cloud.o initialize.o vector.o cloud_util.o interactions.o -lm -lrt\n",
      "make[1]: Leaving directory `/nv/coc-ice/bzhang376/cse6230/projects/1-molecular-dynamics'\n",
      "perf stat ./cloud 1024 1600 1.e-4 100. 1. 31.7334 1.\n",
      "[./cloud] NUM_POINTS=1024, NUM_STEPS=1600, CHUNK_SIZE=1600, DT=0.0001, K=100, D=1, L=31.7334, R=1\n",
      "With 1024 particles of radius 1 and a box width of 31.733400, the volume fraction is 0.134227.\n",
      "The interaction volume is 33.5103, so we expect 1.07381 interactions per particle, 549.792 overall.\n",
      "\n",
      " Performance counter stats for './cloud 1024 1600 1.e-4 100. 1. 31.7334 1.':\n",
      "\n",
      "        277.358606      task-clock (msec)         #    0.994 CPUs utilized          \n",
      "                31      context-switches          #    0.112 K/sec                  \n",
      "                 0      cpu-migrations            #    0.000 K/sec                  \n",
      "               678      page-faults               #    0.002 M/sec                  \n",
      "       910,330,669      cycles                    #    3.282 GHz                    \n",
      "   <not supported>      stalled-cycles-frontend  \n",
      "   <not supported>      stalled-cycles-backend   \n",
      "     1,210,651,288      instructions              #    1.33  insns per cycle        \n",
      "        68,916,127      branches                  #  248.473 M/sec                  \n",
      "         4,974,379      branch-misses             #  \u001b[33m  7.22%\u001b[m of all branches        \n",
      "\n",
      "       0.279163854 seconds time elapsed\n",
      "\n",
      "make --silent clean\n",
      "make cloud #--silent cloud\n",
      "make[1]: Entering directory `/nv/coc-ice/bzhang376/cse6230/projects/1-molecular-dynamics'\n",
      "icc -std=c99 -g -Wall -fPIC -O3 -xHost -qopt-report=5 -DMY_REMAINDER=1 -DMULTIVECTOR -DUPDATEINTERVAL=6 -I../../utils -I../../utils/tictoc  -openmp -c -o verlet.o verlet.c\n",
      "icc: remark #10397: optimization reports are generated in *.optrpt files in the output location\n",
      "icc -std=c99 -g -Wall -fPIC -O3 -xHost -qopt-report=5 -DMY_REMAINDER=1 -DMULTIVECTOR -DUPDATEINTERVAL=6 -I../../utils -I../../utils/tictoc  -openmp -c -o accelerate.o accelerate.c\n",
      "icc: remark #10397: optimization reports are generated in *.optrpt files in the output location\n",
      "icc -std=c99 -g -Wall -fPIC -O3 -xHost -qopt-report=5 -DMY_REMAINDER=1 -DMULTIVECTOR -DUPDATEINTERVAL=6 -I../../utils -I../../utils/tictoc  -openmp -c -o cloud.o cloud.c\n",
      "icc: remark #10397: optimization reports are generated in *.optrpt files in the output location\n",
      "icc -std=c99 -g -Wall -fPIC -O3 -xHost -qopt-report=5 -DMY_REMAINDER=1 -DMULTIVECTOR -DUPDATEINTERVAL=6 -I../../utils -I../../utils/tictoc  -openmp -c -o initialize.o initialize.c\n",
      "icc: remark #10397: optimization reports are generated in *.optrpt files in the output location\n",
      "icc -std=c99 -g -Wall -fPIC -O3 -xHost -qopt-report=5 -DMY_REMAINDER=1 -DMULTIVECTOR -DUPDATEINTERVAL=6 -I../../utils -I../../utils/tictoc  -openmp -c -o vector.o vector.c\n",
      "icc: remark #10397: optimization reports are generated in *.optrpt files in the output location\n",
      "icc -std=c99 -g -Wall -fPIC -O3 -xHost -qopt-report=5 -DMY_REMAINDER=1 -DMULTIVECTOR -DUPDATEINTERVAL=6 -I../../utils -I../../utils/tictoc  -openmp -c -o cloud_util.o cloud_util.c\n",
      "icc: remark #10397: optimization reports are generated in *.optrpt files in the output location\n",
      "icc -std=c99 -g -Wall -fPIC -O3 -xHost -qopt-report=5 -DMY_REMAINDER=1 -DMULTIVECTOR -DUPDATEINTERVAL=6 -I../../utils -I../../utils/tictoc  -openmp -c -o interactions.o interactions.c\n",
      "icc: remark #10397: optimization reports are generated in *.optrpt files in the output location\n",
      "icc -openmp -o cloud verlet.o accelerate.o cloud.o initialize.o vector.o cloud_util.o interactions.o -lm -lrt\n",
      "make[1]: Leaving directory `/nv/coc-ice/bzhang376/cse6230/projects/1-molecular-dynamics'\n",
      "perf stat ./cloud 2048 400 1.e-4 100. 1. 39.9723 1.\n",
      "[./cloud] NUM_POINTS=2048, NUM_STEPS=400, CHUNK_SIZE=400, DT=0.0001, K=100, D=1, L=39.9723, R=1\n",
      "With 2048 particles of radius 1 and a box width of 39.972300, the volume fraction is 0.13432.\n",
      "The interaction volume is 33.5103, so we expect 1.07456 interactions per particle, 1100.35 overall.\n",
      "\n",
      " Performance counter stats for './cloud 2048 400 1.e-4 100. 1. 39.9723 1.':\n",
      "\n",
      "        159.620913      task-clock (msec)         #    0.990 CPUs utilized          \n",
      "                30      context-switches          #    0.188 K/sec                  \n",
      "                 0      cpu-migrations            #    0.000 K/sec                  \n",
      "               682      page-faults               #    0.004 M/sec                  \n",
      "       523,596,316      cycles                    #    3.280 GHz                    \n",
      "   <not supported>      stalled-cycles-frontend  \n",
      "   <not supported>      stalled-cycles-backend   \n",
      "       733,885,809      instructions              #    1.40  insns per cycle        \n",
      "        43,239,638      branches                  #  270.890 M/sec                  \n",
      "         2,231,811      branch-misses             #  \u001b[33m  5.16%\u001b[m of all branches        \n",
      "\n",
      "       0.161217491 seconds time elapsed\n",
      "\n",
      "make --silent clean\n",
      "make cloud #--silent cloud\n",
      "make[1]: Entering directory `/nv/coc-ice/bzhang376/cse6230/projects/1-molecular-dynamics'\n",
      "icc -std=c99 -g -Wall -fPIC -O3 -xHost -qopt-report=5 -DMY_REMAINDER=1 -DMULTIVECTOR -DUPDATEINTERVAL=6 -I../../utils -I../../utils/tictoc  -openmp -c -o verlet.o verlet.c\n",
      "icc: remark #10397: optimization reports are generated in *.optrpt files in the output location\n",
      "icc -std=c99 -g -Wall -fPIC -O3 -xHost -qopt-report=5 -DMY_REMAINDER=1 -DMULTIVECTOR -DUPDATEINTERVAL=6 -I../../utils -I../../utils/tictoc  -openmp -c -o accelerate.o accelerate.c\n",
      "icc: remark #10397: optimization reports are generated in *.optrpt files in the output location\n",
      "icc -std=c99 -g -Wall -fPIC -O3 -xHost -qopt-report=5 -DMY_REMAINDER=1 -DMULTIVECTOR -DUPDATEINTERVAL=6 -I../../utils -I../../utils/tictoc  -openmp -c -o cloud.o cloud.c\n",
      "icc: remark #10397: optimization reports are generated in *.optrpt files in the output location\n",
      "icc -std=c99 -g -Wall -fPIC -O3 -xHost -qopt-report=5 -DMY_REMAINDER=1 -DMULTIVECTOR -DUPDATEINTERVAL=6 -I../../utils -I../../utils/tictoc  -openmp -c -o initialize.o initialize.c\n",
      "icc: remark #10397: optimization reports are generated in *.optrpt files in the output location\n",
      "icc -std=c99 -g -Wall -fPIC -O3 -xHost -qopt-report=5 -DMY_REMAINDER=1 -DMULTIVECTOR -DUPDATEINTERVAL=6 -I../../utils -I../../utils/tictoc  -openmp -c -o vector.o vector.c\n",
      "icc: remark #10397: optimization reports are generated in *.optrpt files in the output location\n",
      "icc -std=c99 -g -Wall -fPIC -O3 -xHost -qopt-report=5 -DMY_REMAINDER=1 -DMULTIVECTOR -DUPDATEINTERVAL=6 -I../../utils -I../../utils/tictoc  -openmp -c -o cloud_util.o cloud_util.c\n",
      "icc: remark #10397: optimization reports are generated in *.optrpt files in the output location\n",
      "icc -std=c99 -g -Wall -fPIC -O3 -xHost -qopt-report=5 -DMY_REMAINDER=1 -DMULTIVECTOR -DUPDATEINTERVAL=6 -I../../utils -I../../utils/tictoc  -openmp -c -o interactions.o interactions.c\n",
      "icc: remark #10397: optimization reports are generated in *.optrpt files in the output location\n",
      "icc -openmp -o cloud verlet.o accelerate.o cloud.o initialize.o vector.o cloud_util.o interactions.o -lm -lrt\n",
      "make[1]: Leaving directory `/nv/coc-ice/bzhang376/cse6230/projects/1-molecular-dynamics'\n",
      "perf stat ./cloud 4096 100 1.e-4 100. 1. 50.3503 1.\n",
      "[./cloud] NUM_POINTS=4096, NUM_STEPS=100, CHUNK_SIZE=100, DT=0.0001, K=100, D=1, L=50.3503, R=1\n",
      "With 4096 particles of radius 1 and a box width of 50.350300, the volume fraction is 0.134413.\n"
     ]
    },
    {
     "name": "stdout",
     "output_type": "stream",
     "text": [
      "The interaction volume is 33.5103, so we expect 1.07531 interactions per particle, 2202.23 overall.\n",
      "\n",
      " Performance counter stats for './cloud 4096 100 1.e-4 100. 1. 50.3503 1.':\n",
      "\n",
      "        108.267709      task-clock (msec)         #    0.984 CPUs utilized          \n",
      "                30      context-switches          #    0.277 K/sec                  \n",
      "                 0      cpu-migrations            #    0.000 K/sec                  \n",
      "               715      page-faults               #    0.007 M/sec                  \n",
      "       353,547,152      cycles                    #    3.265 GHz                    \n",
      "   <not supported>      stalled-cycles-frontend  \n",
      "   <not supported>      stalled-cycles-backend   \n",
      "       521,703,109      instructions              #    1.48  insns per cycle        \n",
      "        31,942,688      branches                  #  295.034 M/sec                  \n",
      "         1,083,165      branch-misses             #    3.39% of all branches        \n",
      "\n",
      "       0.110015686 seconds time elapsed\n",
      "\n",
      "make --silent clean\n",
      "make cloud #--silent cloud\n",
      "make[1]: Entering directory `/nv/coc-ice/bzhang376/cse6230/projects/1-molecular-dynamics'\n",
      "icc -std=c99 -g -Wall -fPIC -O3 -xHost -qopt-report=5 -DMY_REMAINDER=1 -DMULTIVECTOR -DUPDATEINTERVAL=6 -I../../utils -I../../utils/tictoc  -openmp -c -o verlet.o verlet.c\n",
      "icc: remark #10397: optimization reports are generated in *.optrpt files in the output location\n",
      "icc -std=c99 -g -Wall -fPIC -O3 -xHost -qopt-report=5 -DMY_REMAINDER=1 -DMULTIVECTOR -DUPDATEINTERVAL=6 -I../../utils -I../../utils/tictoc  -openmp -c -o accelerate.o accelerate.c\n",
      "icc: remark #10397: optimization reports are generated in *.optrpt files in the output location\n",
      "icc -std=c99 -g -Wall -fPIC -O3 -xHost -qopt-report=5 -DMY_REMAINDER=1 -DMULTIVECTOR -DUPDATEINTERVAL=6 -I../../utils -I../../utils/tictoc  -openmp -c -o cloud.o cloud.c\n",
      "icc: remark #10397: optimization reports are generated in *.optrpt files in the output location\n",
      "icc -std=c99 -g -Wall -fPIC -O3 -xHost -qopt-report=5 -DMY_REMAINDER=1 -DMULTIVECTOR -DUPDATEINTERVAL=6 -I../../utils -I../../utils/tictoc  -openmp -c -o initialize.o initialize.c\n",
      "icc: remark #10397: optimization reports are generated in *.optrpt files in the output location\n",
      "icc -std=c99 -g -Wall -fPIC -O3 -xHost -qopt-report=5 -DMY_REMAINDER=1 -DMULTIVECTOR -DUPDATEINTERVAL=6 -I../../utils -I../../utils/tictoc  -openmp -c -o vector.o vector.c\n",
      "icc: remark #10397: optimization reports are generated in *.optrpt files in the output location\n",
      "icc -std=c99 -g -Wall -fPIC -O3 -xHost -qopt-report=5 -DMY_REMAINDER=1 -DMULTIVECTOR -DUPDATEINTERVAL=6 -I../../utils -I../../utils/tictoc  -openmp -c -o cloud_util.o cloud_util.c\n",
      "icc: remark #10397: optimization reports are generated in *.optrpt files in the output location\n",
      "icc -std=c99 -g -Wall -fPIC -O3 -xHost -qopt-report=5 -DMY_REMAINDER=1 -DMULTIVECTOR -DUPDATEINTERVAL=6 -I../../utils -I../../utils/tictoc  -openmp -c -o interactions.o interactions.c\n",
      "icc: remark #10397: optimization reports are generated in *.optrpt files in the output location\n",
      "icc -openmp -o cloud verlet.o accelerate.o cloud.o initialize.o vector.o cloud_util.o interactions.o -lm -lrt\n",
      "make[1]: Leaving directory `/nv/coc-ice/bzhang376/cse6230/projects/1-molecular-dynamics'\n",
      "perf stat ./cloud 8192 25 1.e-4 100. 1. 63.4227 1.\n",
      "[./cloud] NUM_POINTS=8192, NUM_STEPS=25, CHUNK_SIZE=25, DT=0.0001, K=100, D=1, L=63.4227, R=1\n",
      "With 8192 particles of radius 1 and a box width of 63.422700, the volume fraction is 0.134507.\n",
      "The interaction volume is 33.5103, so we expect 1.07605 interactions per particle, 4407.52 overall.\n",
      "\n",
      " Performance counter stats for './cloud 8192 25 1.e-4 100. 1. 63.4227 1.':\n",
      "\n",
      "         98.462958      task-clock (msec)         #    0.981 CPUs utilized          \n",
      "                31      context-switches          #    0.315 K/sec                  \n",
      "                 0      cpu-migrations            #    0.000 K/sec                  \n",
      "               785      page-faults               #    0.008 M/sec                  \n",
      "       318,843,981      cycles                    #    3.238 GHz                    \n",
      "   <not supported>      stalled-cycles-frontend  \n",
      "   <not supported>      stalled-cycles-backend   \n",
      "       478,847,070      instructions              #    1.50  insns per cycle        \n",
      "        29,153,249      branches                  #  296.083 M/sec                  \n",
      "           844,574      branch-misses             #    2.90% of all branches        \n",
      "\n",
      "       0.100340871 seconds time elapsed\n",
      "\n"
     ]
    }
   ],
   "source": [
    "for N_p in 1 2 4 8 16 32; do\n",
    "  this_L=`echo \"$N_p 0.333 20.\" | awk '{ print ($3 * $1^$2); }'`\n",
    "  this_T=`echo \"$N_p 25600\" | awk '{ print ($2 / ($1 * $1)); }'`\n",
    "  make runcloud NP=$(( 256*$N_p )) L=$this_L NT=$this_T PERF=\"perf stat\"\n",
    "done"
   ]
  },
  {
   "cell_type": "markdown",
   "metadata": {},
   "source": [
    "However, you code must still be correct:  an effective diffusion coefficient can be computed for the type of particles you are simulating.  The following diffusion coefficient calculation should stay in the range of 0.77-0.92:"
   ]
  },
  {
   "cell_type": "code",
   "execution_count": 2,
   "metadata": {},
   "outputs": [
    {
     "name": "stdout",
     "output_type": "stream",
     "text": [
      "make --silent clean\n",
      "make --silent cloud\n",
      "icc: remark #10397: optimization reports are generated in *.optrpt files in the output location\n",
      "icc: remark #10397: optimization reports are generated in *.optrpt files in the output location\n",
      "icc: remark #10397: optimization reports are generated in *.optrpt files in the output location\n",
      "icc: remark #10397: optimization reports are generated in *.optrpt files in the output location\n",
      "icc: remark #10397: optimization reports are generated in *.optrpt files in the output location\n",
      "icc: remark #10397: optimization reports are generated in *.optrpt files in the output location\n",
      "icc: remark #10397: optimization reports are generated in *.optrpt files in the output location\n",
      "./cloud 512 51000 1.e-4 100. 1. 25.198421 1. 1000 check | python3 check.py\n",
      "Diffusion constant: [ 0.83613632]\n"
     ]
    }
   ],
   "source": [
    "make checkcloud NP=512 L=25.198421 NT=51000 CHUNK=1000"
   ]
  },
  {
   "cell_type": "markdown",
   "metadata": {},
   "source": [
    "## Grading\n",
    "\n",
    "### 4 pts: Hassle-free usage: if the bash script that is generated by `jupyter convert` from this notebook runs without issue\n",
    "\n",
    "### 6 pts: For code that correctly parallelizes all critical kernels (including the binning calculations in `interactions.c`)\n",
    " \n",
    "- A correct diffusion coefficient is required for correctness\n",
    "- If your code is not correct, points can be salvaged with *legible code* that describes what changes you are making\n",
    "\n",
    "### 6 pts: Speed.  Any (correct) code that is the fastest on one of the benchmark problem sizes (for the node type you have selected) automatically gets 6 pts.  Code that does not outperform the initial version on any benchmark gets no points.  1 point will be available for each benchmark problem that shows non-trivial improvements in performance.\n",
    "\n",
    "**Significant improvement is defined by the following speedups for the benchmark problems:**\n",
    "\n",
    "- `N_p = 1`: 2x\n",
    "- `N_p = 2`: 5x\n",
    "- `N_p = 4, 8, 16, 32`: 9x\n",
    "\n",
    "### 4 pts: Report.  In a cell below this one, describe the optimizations that you made and why you made them.\n",
    "\n",
    "- Full points will require evidence (such as a screenshot) from `hpctoolkit` or some other profiling utility that motivates or justifies your changes.\n",
    "- Points will be awarded for optimizations that you tried that did not work as long as you have a good explanation for why you tried them and why they didn't work."
   ]
  },
  {
   "cell_type": "markdown",
   "metadata": {},
   "source": [
    "1. ##### Change the size of boxs into an optimized one:\n",
    "\n",
    "   If we only consider the time consumed by the step of finding interaction pairs, the best size should be the SMALLEST box size which fulfills the requirement that particles inside one box only interact with particles in the same box and in the nearby boxes. \n",
    "\n",
    "   Since the \"radius\" of the kind of particles is 1, based on the geometrical relationship, the optimized size of boxes should be $2\\times2\\times2$. So we changed the coefficient `boxdim` as\n",
    "\n",
    "    $$\\frac{20}{2}\\;=\\;10$$\n",
    "\n",
    "   However, if the number of boxes is larger, there will also be extra time spent on the box-creating process. Since there is a larger array for labeling and saving boxes, the time spent on accessing the particles inside a box will also be longer.\n",
    "   \n",
    "   After the trial, we decided to set the `boxdim` as $8$."
   ]
  },
  {
   "cell_type": "markdown",
   "metadata": {},
   "source": [
    "![hpcviewer screen shot of GetPairs vs force](needOptGetPairs.png)"
   ]
  },
  {
   "cell_type": "markdown",
   "metadata": {},
   "source": [
    "2. ##### Parallel the loop of finding interaction pairs: \n",
    "\n",
    "   Wee looked at profile of the program, and the GetPairs loop takes surprisingly large amount of time. To optimize, it must be parallelized. Calculation in each box is independent, which can be paralleled naturally. The most difficult part here is the data structure.\n",
    "\n",
    "   In original program, all interaction pairs are recorded on one list. To parallel the process of finding and recording interaction pairs, the potential conflict of several threads writing on the list at the same time should be diminished.\n",
    "   \n",
    "   Firstly, an array of pair lists was built in `IXCreate`. The number of lists in the array is the number of threads. \n",
    "   \n",
    "   Secondly, the finding process are executed on multiple threads (`IXGetPairs`). Every time one thread find an interacting pair, it push the pair onto the list it owns (`IXPushpair`).\n",
    "   \n",
    "   Finally, all the lists in the array are hoined into one list at the end of `IXGetPairs`, which will be sent to `accelerate`."
   ]
  },
  {
   "cell_type": "markdown",
   "metadata": {},
   "source": [
    "3. ##### Change the frequency of updating interaction pairs:\n",
    "    \n",
    "    In the original sequential program, the linked list of interaction pairs is updated in every time step. However, if the average speed of particles is not as high as flying over the distance as the diameter of the particle in a time step, it is not necessary to update it so frequently: the interaction pairs can keep interact in more than one time step, the two particles without interaction are also not so easy to correlate in a time step.\n",
    "    \n",
    "    The structure of `verlet_step` and `accelerate` were changed to make them more flexible on modifying the period or frequency of updating interaction pairs.\n",
    "    \n",
    "    We increase the interval to $6$ time steps and the diffusion constant calculated is still pretty close to the original, so we use this number."
   ]
  },
  {
   "cell_type": "markdown",
   "metadata": {},
   "source": [
    "4. ##### Parallel the function of computing the forces:\n",
    "    \n",
    "   After finding the interacting pairs, the force between one pair is only related to the positions of the two particles, which is independent with other pairs. So the loop of computing forces are paralleled. \n",
    "\n",
    "   However, since there is the risk of adding forces exerted on one particle simultaneously, the code of adding forces onto the elements of the force array \"U\" are set atomic. Everytime only one thread can access to the position saving the force on a particle."
   ]
  },
  {
   "cell_type": "markdown",
   "metadata": {},
   "source": [
    "5. ##### Replace the function `REMAINDER` by using `omp simd`: \n",
    "   \n",
    "   A new function of computing the remainder of a number with regard to the dimension of the cell is written as `MY_REMAINDER` in the file \"steric.h\". The function is set under \"omp declare simd\", which let the code vecotrized better."
   ]
  },
  {
   "cell_type": "markdown",
   "metadata": {},
   "source": [
    "6. ##### Not using AoS: \n",
    "   \n",
    "   Both the structure of saving the positions of particles AoS and SA in `vector.c` were tried. Using SoA is quicker than AoS. The reason of such difference may be that SoA is better for vectorization."
   ]
  },
  {
   "cell_type": "markdown",
   "metadata": {},
   "source": [
    "## Advice\n",
    "\n",
    "- **My experience in the past:** Detailed git histories are correlated with better performance!\n",
    "- **Understand your code before you try to change it:**\n",
    "    - In addition to profiling utilities, it might be useful to add timers to\n",
    "      individual routines.  The division of the program into objects that control\n",
    "      different aspects of the code should make easy to, say, add a timer\n",
    "      in one place without changing the whole program.\n",
    "- **Simple problem parameters that can be changed:**\n",
    "    - The number of boxes per dimension\n",
    "    - The layout of vectors (array-of-structures or structure of arrays? see `vector.h`)\n",
    "    - The data structures used to assign particles to boxes (is a linked-list really best)?\n",
    "- **Avoid memory and other resource contention:**\n",
    "    - Anytime multiple threads are trying to write to locations close to each\n",
    "      other, it makes it difficult and expensive to make sure each thread has\n",
    "      an up-to-date copy of the memory that is changing.  This would happen,\n",
    "      for example, if many threads are writing to the `pairs` list in\n",
    "      the interactions routine.  Consider allocating a separate workspace for\n",
    "      each thread by, for example, giving each thread its own `pairs` array.\n",
    "      Then, once all threads are done computing their pairs, you can combine\n",
    "      the separate arrays into one array, or even change the interface of the\n",
    "      `interactions()` function so that it is multiple lists are returned.\n",
    "- **Find ways to avoid recomputing from scratch:**\n",
    "    - Can you use the layout of the particles from the last time step to help you\n",
    "      bin or find pairs in the next time step?\n",
    "- **You get to choose how many threads we use to evaluate your code:**\n",
    "    - There's nothing inherently wrong with achieving your best performance\n",
    "      using fewer than the maximum number of threads available on a node.  The\n",
    "      problem may simply not have enough concurrency to support every thread.\n",
    "- **Read through these performance slides for ideas:** [From Archer](https://www.archer.ac.uk/training/course-material/2015/12/ShMem_OpenMP_York/Slides/L09-performance.pdf)\n",
    "- **Reread the molecular dynamic notes from Prof. Chow to make sure you understand what we're trying to accomplish:** [Molecular dynamics and cell lists](https://www.cc.gatech.edu/%7Eechow/ipcc/hpc-course/05_celllist.pdf)"
   ]
  }
 ],
 "metadata": {
  "kernelspec": {
   "display_name": "Bash",
   "language": "bash",
   "name": "bash"
  },
  "language_info": {
   "codemirror_mode": "shell",
   "file_extension": ".sh",
   "mimetype": "text/x-sh",
   "name": "bash"
  }
 },
 "nbformat": 4,
 "nbformat_minor": 2
}
