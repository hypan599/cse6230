{
 "cells": [
  {
   "cell_type": "markdown",
   "metadata": {},
   "source": [
    "# Project 1: Molecular Dynamics with OpenMP\n",
    "\n",
    "This assignment is due in two weeks time, by **9:30 am on Thursday October 3rd**.\n",
    "\n",
    "**You may work in pairs on this assignment:** When you officially submit this project on Canvas, you should indicate in the text submission field on Canvas:\n",
    "\n",
    "- Who, if anyone you are working with\n",
    "- If you are working in pairs, indicater whether the repository to be graded is yours or your partner's.\n",
    "- Which commit of your repository you would like to be graded (we will grade the `master` branch by default if no choice is made)"
   ]
  },
  {
   "cell_type": "markdown",
   "metadata": {},
   "source": [
    "**Which type of node are you using?** Because OpenMP can be used to program the GPUs, you may choose to optimize the application for any of the three types of nodes used in this class.  Declare the type of node you would like to use here:\n",
    "\n",
    "**This notebook should be run on a node with #\\_\\_ CPU cores and #\\_ Tesla \\_\\_\\_\\_ GPUs**"
   ]
  },
  {
   "cell_type": "markdown",
   "metadata": {
    "slideshow": {
     "slide_type": "slide"
    }
   },
   "source": [
    "If you will not use the GPUs, you should use the following modules:"
   ]
  },
  {
   "cell_type": "code",
   "execution_count": 1,
   "metadata": {},
   "outputs": [
    {
     "name": "stdout",
     "output_type": "stream",
     "text": [
      " =========================================================================\n",
      "|                                                                         |\n",
      "|       A note about python/3.6:                                          |\n",
      "|       PACE is lacking the staff to install all of the python 3          |\n",
      "|       modules, but we do maintain an anaconda distribution for          |\n",
      "|       both python 2 and python 3. As conda significantly reduces        |\n",
      "|       the overhead with package management, we would much prefer        |\n",
      "|       to maintain python 3 through anaconda.                            |\n",
      "|                                                                         |\n",
      "|       All pace installed modules are visible via the module avail       |\n",
      "|       command.                                                          |\n",
      "|                                                                         |\n",
      " =========================================================================\n"
     ]
    }
   ],
   "source": [
    "module use $CSE6230_DIR/modulefiles\n",
    "module load cse6230/core"
   ]
  },
  {
   "cell_type": "markdown",
   "metadata": {},
   "source": [
    "If you will use the GPUs, you should use the following modules:"
   ]
  },
  {
   "cell_type": "code",
   "execution_count": null,
   "metadata": {},
   "outputs": [],
   "source": [
    "# module use $CSE6230_DIR/modulefiles\n",
    "# module load cse6230/gcc-omp-gpu"
   ]
  },
  {
   "cell_type": "markdown",
   "metadata": {},
   "source": [
    "(I've included a set of makefile rules for GNU-based builds: you can use `make MAKERULES=gcc` wherever you would use make and it should work.  You should do this if you are using the `gcc-omp-gpu` module or if you are developing on your laptop and don't have the intel compilers)\n",
    "\n",
    "## About this program\n",
    "\n",
    "The code for this assignment started out almost exactly the same as your third assignment with interacting particles.  We saw in that assignment the way that $O(n^2)$ interactions in an $n$-body simulation dominate the rest of the operations.  This project shows an attempt to return that work complexity from $O(n^2)$ back down to $O(n)$ or thereabouts.\n",
    "  \n",
    "Some of the potentials that define interactions in molecular dynamics decay *quite* rapidly.  So rapidly, that it is not a terrible approximation to assign to each particle an effective **radius $r$**.  If two particles are not touching (that is if their centers are more than $2r$ apart), then the interactions can safely be ignored (particularly if it will be drowned out relative to the background *Brownian* noise that we saw last week).  In side of $2r$, then the overlapping particles start pushing each other apart.\n",
    "\n",
    "If you'd like to see the particulars of this assignments force due to interactions, you can look at `steric.h`, so called because the force approximate [steric effects](https://en.wikipedia.org/wiki/Steric_effects)."
   ]
  },
  {
   "cell_type": "code",
   "execution_count": 3,
   "metadata": {},
   "outputs": [
    {
     "name": "stdout",
     "output_type": "stream",
     "text": [
      "\u001b[36m#\u001b[39;49;00m\u001b[36mif !defined(STERIC_H)\u001b[39;49;00m\u001b[36m\u001b[39;49;00m\n",
      "\u001b[36m#\u001b[39;49;00m\u001b[36mdefine      STERIC_H\u001b[39;49;00m\u001b[36m\u001b[39;49;00m\n",
      "\n",
      "\u001b[36m#\u001b[39;49;00m\u001b[36minclude\u001b[39;49;00m \u001b[37m<math.h>\u001b[39;49;00m\u001b[36m\u001b[39;49;00m\n",
      "\n",
      "\n",
      "\u001b[37m/* This kernel should be called if the distance between two particles is less\u001b[39;49;00m\n",
      "\u001b[37m * than twice the particle radius */\u001b[39;49;00m\n",
      "\u001b[34mstatic\u001b[39;49;00m \u001b[34minline\u001b[39;49;00m \u001b[36mvoid\u001b[39;49;00m\n",
      "\u001b[32mforce_in_range\u001b[39;49;00m (\u001b[36mdouble\u001b[39;49;00m k, \u001b[37m/* The interaction strength (may be scaled by the time step already)\u001b[39;49;00m \u001b[04m\u001b[31;01m*/\u001b[39;49;00m\n",
      "                \u001b[36mdouble\u001b[39;49;00m r, \u001b[37m/* The radius of a particle.  Two particles interact if they intersect */\u001b[39;49;00m\n",
      "                \u001b[36mdouble\u001b[39;49;00m R, \u001b[37m/* The distance between these two particles */\u001b[39;49;00m\n",
      "                \u001b[36mdouble\u001b[39;49;00m dx, \u001b[36mdouble\u001b[39;49;00m dy, \u001b[36mdouble\u001b[39;49;00m dz, \u001b[37m/* The displacement from particle 2 to particle 1 */\u001b[39;49;00m\n",
      "                \u001b[36mdouble\u001b[39;49;00m f[\u001b[34m3\u001b[39;49;00m]) \u001b[37m/* The output force exerted on particle 1 by particle 2 */\u001b[39;49;00m\n",
      "{\n",
      "  \u001b[37m/* The interaction strength starts at 0 when they are just touching,\u001b[39;49;00m\n",
      "\u001b[37m   * becoming infinite as the distance becomes zero */\u001b[39;49;00m\n",
      "  \u001b[36mdouble\u001b[39;49;00m strength = (\u001b[34m2.\u001b[39;49;00m * r - R) / R;\n",
      "\n",
      "  f[\u001b[34m0\u001b[39;49;00m] = k * strength * dx;\n",
      "  f[\u001b[34m1\u001b[39;49;00m] = k * strength * dy;\n",
      "  f[\u001b[34m2\u001b[39;49;00m] = k * strength * dz;\n",
      "}\n",
      "\n",
      "\u001b[37m/* get the square distance and displacement between two particles under periodic\u001b[39;49;00m\n",
      "\u001b[37m * conditions */\u001b[39;49;00m\n",
      "\u001b[34mstatic\u001b[39;49;00m \u001b[34minline\u001b[39;49;00m \u001b[36mdouble\u001b[39;49;00m\n",
      "\u001b[32mdist_and_disp\u001b[39;49;00m (\u001b[36mdouble\u001b[39;49;00m x1, \u001b[36mdouble\u001b[39;49;00m y1, \u001b[36mdouble\u001b[39;49;00m z1, \u001b[37m/* The center of the first particle */\u001b[39;49;00m\n",
      "               \u001b[36mdouble\u001b[39;49;00m x2, \u001b[36mdouble\u001b[39;49;00m y2, \u001b[36mdouble\u001b[39;49;00m z2, \u001b[37m/* The center of the second particle */\u001b[39;49;00m\n",
      "               \u001b[36mdouble\u001b[39;49;00m L, \u001b[37m/* The width of the periodic domain */\u001b[39;49;00m\n",
      "               \u001b[36mdouble\u001b[39;49;00m *Dx, \u001b[36mdouble\u001b[39;49;00m *Dy, \u001b[36mdouble\u001b[39;49;00m *Dz)\n",
      "{\n",
      "  \u001b[36mdouble\u001b[39;49;00m dx, dy, dz;\n",
      "  *Dx = dx = remainder(x1 - x2, L);\n",
      "  *Dy = dy = remainder(y1 - y2, L);\n",
      "  *Dz = dz = remainder(z1 - z2, L);\n",
      "\n",
      "  \u001b[34mreturn\u001b[39;49;00m dx*dx + dy*dy + dz*dz;\n",
      "}\n",
      "\n",
      "\u001b[34mstatic\u001b[39;49;00m \u001b[34minline\u001b[39;49;00m \u001b[36mvoid\u001b[39;49;00m\n",
      "\u001b[32mforce\u001b[39;49;00m (\u001b[36mdouble\u001b[39;49;00m k, \u001b[37m/* The interaction strength (may be scaled by the time step already)\u001b[39;49;00m \u001b[04m\u001b[31;01m*/\u001b[39;49;00m\n",
      "       \u001b[36mdouble\u001b[39;49;00m r, \u001b[37m/* The radius of a particle.  Two particles interact if they intersect */\u001b[39;49;00m\n",
      "       \u001b[36mdouble\u001b[39;49;00m L, \u001b[37m/* The width of the periodic domain */\u001b[39;49;00m\n",
      "       \u001b[36mdouble\u001b[39;49;00m x1, \u001b[36mdouble\u001b[39;49;00m y1, \u001b[36mdouble\u001b[39;49;00m z1, \u001b[37m/* The center of the first particle */\u001b[39;49;00m\n",
      "       \u001b[36mdouble\u001b[39;49;00m x2, \u001b[36mdouble\u001b[39;49;00m y2, \u001b[36mdouble\u001b[39;49;00m z2, \u001b[37m/* The center of the second particle */\u001b[39;49;00m\n",
      "       \u001b[36mdouble\u001b[39;49;00m f[\u001b[34m3\u001b[39;49;00m]) \u001b[37m/* The output force exterted on particle 1 by particle 2 */\u001b[39;49;00m\n",
      "{\n",
      "  \u001b[36mdouble\u001b[39;49;00m dx, dy, dz;\n",
      "  \u001b[36mdouble\u001b[39;49;00m R2;\n",
      "  \u001b[36mdouble\u001b[39;49;00m r2 = \u001b[34m4.\u001b[39;49;00m * r * r;\n",
      "\n",
      "  R2 = dist_and_disp (x1, y1, z1, x2, y2, z2, L, &dx, &dy, &dz);\n",
      "\n",
      "  \u001b[37m/* If the distance between the centers is less than twice the radius, they\u001b[39;49;00m\n",
      "\u001b[37m   * interact */\u001b[39;49;00m\n",
      "  \u001b[34mif\u001b[39;49;00m (R2 < r2) {\n",
      "    \u001b[36mdouble\u001b[39;49;00m R = sqrt(R2);\n",
      "\n",
      "    \u001b[37m//printf(\"(%g,%g,%g)(%g,%g,%g)\\n\",x1, y1, z1, x2, y2, z2);\u001b[39;49;00m\n",
      "\n",
      "    force_in_range (k, r, R, dx, dy, dz, f);\n",
      "  }\n",
      "  \u001b[34melse\u001b[39;49;00m {\n",
      "    f[\u001b[34m0\u001b[39;49;00m] = f[\u001b[34m1\u001b[39;49;00m] = f[\u001b[34m2\u001b[39;49;00m] = \u001b[34m0.\u001b[39;49;00m;\n",
      "  }\n",
      "}\n",
      "\n",
      "\n",
      "\u001b[36m#\u001b[39;49;00m\u001b[36mendif\u001b[39;49;00m\u001b[36m\u001b[39;49;00m\n"
     ]
    }
   ],
   "source": [
    "pygmentize steric.h"
   ]
  },
  {
   "cell_type": "markdown",
   "metadata": {},
   "source": [
    "(If you find part of your program is compute bound, you are welcome to change the implementations in `steric.h`, as long as your still calculate the same function)"
   ]
  },
  {
   "cell_type": "markdown",
   "metadata": {},
   "source": [
    "Now, suppose that our particles bounce around and repel each other until they are roughly in equilibrium.  We would expect that they would be well spread out, and that the chance of any two particles interacting would be no more likely than two particles placed at random.\n",
    "\n",
    "A particle interacts with any particle within a range of $2*r$, which means that around each particle there is a sphere with volume $V_p = \\frac{4}{3}\\pi (2r)^3\\approx 33 r^3$: any particle whose center is outside of that cell does not interact.  Suppose the volume of the periodic domain is $V_D$, and there are $N_p$ particles.  Then if the other $N_p - 1$ particles are distributed at random, then we expect $V_p (N_p - 1)/ V_D$ of those particles to interact with the particle in question.  Therefore we might expect $N_p V_p (N_p - 1) / 2 V_D$ interactions in total.\n",
    "\n",
    "What's the point of this calculation?  Well, when run a periodic simulation, we are trying to approximate a larger domain with a fixed *density* of particles per volume.  Thus, if we consider $\\phi = N_p/ V_D$ to be a fixed density of the problem we are trying to simulate, then the number of interactions is $\\approx (N_p - 1) \\phi / 2$.\n",
    "*We should expect the number of interactions to scale linearly with the number of particles if we keep $\\phi$ fixed.*"
   ]
  },
  {
   "cell_type": "markdown",
   "metadata": {},
   "source": [
    "So how can we exploit the fact that only $O(N_p)$ interactions are expected instead of $O(N_p^2)$?  In our acceleration routine, we should try to rule out particles from interacting with each other.\n",
    "\n",
    "One way to do this is *binning*: we divide up our periodic domain $[-L/2,L/2)^3$ into a grid of $b$ boxes per dimension, $b^3$ boxes total.  An algorithm would look like the following:\n",
    "\n",
    "1. Given each particles coordinates, assign it to the appropriate box.\n",
    "2. If the length of a box $(L / b)$ is longer than $2r$, then every particle can only interact with particles\n",
    "  - In its own box,\n",
    "  - In neighboring boxes\n",
    "3. So loop over neighboring boxes and create a list of *pairs of particles* that are close enough to interact."
   ]
  },
  {
   "cell_type": "markdown",
   "metadata": {},
   "source": [
    "This is what is done now in `accelerate.c`: there is an interaction \"object\" that handles the internals of binning particles into boxes: it returns a list of pairs on request.\n",
    "\n",
    "The previous $O(N_p^2)$ calculation is available for comparison and debugging purposes."
   ]
  },
  {
   "cell_type": "code",
   "execution_count": 3,
   "metadata": {},
   "outputs": [
    {
     "name": "stdout",
     "output_type": "stream",
     "text": [
      "\u001b[34mstatic\u001b[39;49;00m \u001b[36mvoid\u001b[39;49;00m\n",
      "\u001b[32maccelerate_ix\u001b[39;49;00m (Accel accel, Vector X, Vector U)\n",
      "{\n",
      "  IX ix = accel->ix;\n",
      "  \u001b[36mint\u001b[39;49;00m Np = X->Np;\n",
      "  \u001b[36mint\u001b[39;49;00m Npairs;\n",
      "  ix_pair *pairs;\n",
      "  \u001b[36mdouble\u001b[39;49;00m L = accel->L;\n",
      "  \u001b[36mdouble\u001b[39;49;00m k = accel->k;\n",
      "  \u001b[36mdouble\u001b[39;49;00m r = accel->r;\n",
      "\n",
      "  \u001b[34mfor\u001b[39;49;00m (\u001b[36mint\u001b[39;49;00m i = \u001b[34m0\u001b[39;49;00m; i < Np; i++) {\n",
      "    \u001b[34mfor\u001b[39;49;00m (\u001b[36mint\u001b[39;49;00m j = \u001b[34m0\u001b[39;49;00m; j < \u001b[34m3\u001b[39;49;00m; j++) {\n",
      "      IDX(U,j,i) = \u001b[34m0.\u001b[39;49;00m;\n",
      "    }\n",
      "  }\n",
      "\n",
      "  IXGetPairs (ix, X, \u001b[34m2.\u001b[39;49;00m*r, &Npairs, &pairs);\n",
      "  \u001b[34mfor\u001b[39;49;00m (\u001b[36mint\u001b[39;49;00m p = \u001b[34m0\u001b[39;49;00m; p < Npairs; p++) {\n",
      "    \u001b[36mint\u001b[39;49;00m i = pairs[p].p[\u001b[34m0\u001b[39;49;00m];\n",
      "    \u001b[36mint\u001b[39;49;00m j = pairs[p].p[\u001b[34m1\u001b[39;49;00m];\n",
      "    \u001b[36mdouble\u001b[39;49;00m du[\u001b[34m3\u001b[39;49;00m];\n",
      "\n",
      "    force (k, r, L, IDX(X,\u001b[34m0\u001b[39;49;00m,i), IDX(X,\u001b[34m1\u001b[39;49;00m,i), IDX(X,\u001b[34m2\u001b[39;49;00m,i), IDX(X,\u001b[34m0\u001b[39;49;00m,j), IDX(X,\u001b[34m1\u001b[39;49;00m,j), IDX(X,\u001b[34m2\u001b[39;49;00m,j), du);\n",
      "\n",
      "    \u001b[34mfor\u001b[39;49;00m (\u001b[36mint\u001b[39;49;00m d = \u001b[34m0\u001b[39;49;00m; d < \u001b[34m3\u001b[39;49;00m; d++) {\n",
      "      IDX(U,d,i) += du[d];\n",
      "      IDX(U,d,j) -= du[d];\n",
      "    }\n",
      "  }\n",
      "  IXRestorePairs (ix, X, \u001b[34m2.\u001b[39;49;00m*r, &Npairs, &pairs);\n",
      "}\n"
     ]
    }
   ],
   "source": [
    "sed -n '54,85 p' accelerate.c | pygmentize -l c"
   ]
  },
  {
   "cell_type": "markdown",
   "metadata": {},
   "source": [
    "## Your task\n",
    "\n",
    "You're free to make just about any changes you'd like to the code.  The `cloud` program is currently a functioning serial program with a small amount of OpenMP already mixed in.  Below is a sequence of problems of increasing size $N_p$ but fixed density.\n",
    "\n",
    "You should specify OpenMP environment variables before this loop that will be used by the programs."
   ]
  },
  {
   "cell_type": "code",
   "execution_count": null,
   "metadata": {},
   "outputs": [],
   "source": [
    "# export OMP_NUM_THREADS=...\n",
    "# export OMP_PROC_BIND=...\n",
    "# export OMP_SCHEDULE=...\n",
    "# etc."
   ]
  },
  {
   "cell_type": "code",
   "execution_count": 17,
   "metadata": {
    "scrolled": false
   },
   "outputs": [
    {
     "name": "stdout",
     "output_type": "stream",
     "text": [
      "make --silent clean\n",
      "make --silent cloud\n",
      "icc: remark #10397: optimization reports are generated in *.optrpt files in the output location\n",
      "icc: remark #10397: optimization reports are generated in *.optrpt files in the output location\n",
      "icc: remark #10397: optimization reports are generated in *.optrpt files in the output location\n",
      "icc: remark #10397: optimization reports are generated in *.optrpt files in the output location\n",
      "icc: remark #10397: optimization reports are generated in *.optrpt files in the output location\n",
      "icc: remark #10397: optimization reports are generated in *.optrpt files in the output location\n",
      "icc: remark #10397: optimization reports are generated in *.optrpt files in the output location\n",
      "perf stat ./cloud 256 25600 1.e-4 100. 1. 20 1.\n",
      "[./cloud] NUM_POINTS=256, NUM_STEPS=25600, CHUNK_SIZE=25600, DT=0.0001, K=100, D=1, L=20, R=1\n",
      "With 256 particles of radius 1 and a box width of 20.000000, the volume fraction is 0.134041.\n",
      "The interaction volume is 33.5103, so we expect 1.07233 interactions per particle, 137.258 overall.\n",
      "\n",
      " Performance counter stats for './cloud 256 25600 1.e-4 100. 1. 20 1.':\n",
      "\n",
      "       2350.747978      task-clock (msec)         #    1.000 CPUs utilized          \n",
      "                34      context-switches          #    0.014 K/sec                  \n",
      "                 0      cpu-migrations            #    0.000 K/sec                  \n",
      "               587      page-faults               #    0.250 K/sec                  \n",
      "     7,746,282,453      cycles                    #    3.295 GHz                    \n",
      "   <not supported>      stalled-cycles-frontend  \n",
      "   <not supported>      stalled-cycles-backend   \n",
      "     7,231,081,238      instructions              #    0.93  insns per cycle        \n",
      "       512,397,371      branches                  #  217.972 M/sec                  \n",
      "        60,189,101      branch-misses             #  \u001b[35m 11.75%\u001b[m of all branches        \n",
      "\n",
      "       2.350903527 seconds time elapsed\n",
      "\n",
      "make --silent clean\n",
      "make --silent cloud\n",
      "icc: remark #10397: optimization reports are generated in *.optrpt files in the output location\n",
      "icc: remark #10397: optimization reports are generated in *.optrpt files in the output location\n",
      "icc: remark #10397: optimization reports are generated in *.optrpt files in the output location\n",
      "icc: remark #10397: optimization reports are generated in *.optrpt files in the output location\n",
      "icc: remark #10397: optimization reports are generated in *.optrpt files in the output location\n",
      "icc: remark #10397: optimization reports are generated in *.optrpt files in the output location\n",
      "icc: remark #10397: optimization reports are generated in *.optrpt files in the output location\n",
      "perf stat ./cloud 512 6400 1.e-4 100. 1. 25.1926 1.\n",
      "[./cloud] NUM_POINTS=512, NUM_STEPS=6400, CHUNK_SIZE=6400, DT=0.0001, K=100, D=1, L=25.1926, R=1\n",
      "With 512 particles of radius 1 and a box width of 25.192600, the volume fraction is 0.134134.\n",
      "The interaction volume is 33.5103, so we expect 1.07307 interactions per particle, 274.707 overall.\n",
      "\n",
      " Performance counter stats for './cloud 512 6400 1.e-4 100. 1. 25.1926 1.':\n",
      "\n",
      "        945.546507      task-clock (msec)         #    0.999 CPUs utilized          \n",
      "                32      context-switches          #    0.034 K/sec                  \n",
      "                 0      cpu-migrations            #    0.000 K/sec                  \n",
      "               593      page-faults               #    0.627 K/sec                  \n",
      "     3,112,246,452      cycles                    #    3.291 GHz                    \n",
      "   <not supported>      stalled-cycles-frontend  \n",
      "   <not supported>      stalled-cycles-backend   \n",
      "     3,360,105,940      instructions              #    1.08  insns per cycle        \n",
      "       225,591,250      branches                  #  238.583 M/sec                  \n",
      "        23,223,267      branch-misses             #  \u001b[35m 10.29%\u001b[m of all branches        \n",
      "\n",
      "       0.946644334 seconds time elapsed\n",
      "\n",
      "make --silent clean\n",
      "make --silent cloud\n",
      "icc: remark #10397: optimization reports are generated in *.optrpt files in the output location\n",
      "icc: remark #10397: optimization reports are generated in *.optrpt files in the output location\n",
      "icc: remark #10397: optimization reports are generated in *.optrpt files in the output location\n",
      "icc: remark #10397: optimization reports are generated in *.optrpt files in the output location\n",
      "icc: remark #10397: optimization reports are generated in *.optrpt files in the output location\n",
      "icc: remark #10397: optimization reports are generated in *.optrpt files in the output location\n",
      "icc: remark #10397: optimization reports are generated in *.optrpt files in the output location\n",
      "perf stat ./cloud 1024 1600 1.e-4 100. 1. 31.7334 1.\n",
      "[./cloud] NUM_POINTS=1024, NUM_STEPS=1600, CHUNK_SIZE=1600, DT=0.0001, K=100, D=1, L=31.7334, R=1\n",
      "With 1024 particles of radius 1 and a box width of 31.733400, the volume fraction is 0.134227.\n",
      "The interaction volume is 33.5103, so we expect 1.07381 interactions per particle, 549.792 overall.\n",
      "\n",
      " Performance counter stats for './cloud 1024 1600 1.e-4 100. 1. 31.7334 1.':\n",
      "\n",
      "        445.498952      task-clock (msec)         #    0.997 CPUs utilized          \n",
      "                31      context-switches          #    0.070 K/sec                  \n",
      "                 0      cpu-migrations            #    0.000 K/sec                  \n",
      "               604      page-faults               #    0.001 M/sec                  \n",
      "     1,464,498,114      cycles                    #    3.287 GHz                    \n",
      "   <not supported>      stalled-cycles-frontend  \n",
      "   <not supported>      stalled-cycles-backend   \n",
      "     1,868,225,273      instructions              #    1.28  insns per cycle        \n",
      "       122,342,477      branches                  #  274.619 M/sec                  \n",
      "         8,970,441      branch-misses             #  \u001b[33m  7.33%\u001b[m of all branches        \n",
      "\n",
      "       0.447049131 seconds time elapsed\n",
      "\n",
      "make --silent clean\n",
      "make --silent cloud\n",
      "icc: remark #10397: optimization reports are generated in *.optrpt files in the output location\n",
      "icc: remark #10397: optimization reports are generated in *.optrpt files in the output location\n",
      "icc: remark #10397: optimization reports are generated in *.optrpt files in the output location\n",
      "icc: remark #10397: optimization reports are generated in *.optrpt files in the output location\n",
      "icc: remark #10397: optimization reports are generated in *.optrpt files in the output location\n",
      "icc: remark #10397: optimization reports are generated in *.optrpt files in the output location\n",
      "icc: remark #10397: optimization reports are generated in *.optrpt files in the output location\n",
      "perf stat ./cloud 2048 400 1.e-4 100. 1. 39.9723 1.\n",
      "[./cloud] NUM_POINTS=2048, NUM_STEPS=400, CHUNK_SIZE=400, DT=0.0001, K=100, D=1, L=39.9723, R=1\n",
      "With 2048 particles of radius 1 and a box width of 39.972300, the volume fraction is 0.13432.\n",
      "The interaction volume is 33.5103, so we expect 1.07456 interactions per particle, 1100.35 overall.\n",
      "\n",
      " Performance counter stats for './cloud 2048 400 1.e-4 100. 1. 39.9723 1.':\n",
      "\n",
      "        262.622713      task-clock (msec)         #    0.993 CPUs utilized          \n",
      "                31      context-switches          #    0.118 K/sec                  \n",
      "                 0      cpu-migrations            #    0.000 K/sec                  \n",
      "               626      page-faults               #    0.002 M/sec                  \n",
      "       860,412,558      cycles                    #    3.276 GHz                    \n",
      "   <not supported>      stalled-cycles-frontend  \n",
      "   <not supported>      stalled-cycles-backend   \n",
      "     1,256,733,867      instructions              #    1.46  insns per cycle        \n",
      "        81,813,581      branches                  #  311.525 M/sec                  \n",
      "         3,648,914      branch-misses             #    4.46% of all branches        \n",
      "\n",
      "       0.264448426 seconds time elapsed\n",
      "\n",
      "make --silent clean\n",
      "make --silent cloud\n",
      "icc: remark #10397: optimization reports are generated in *.optrpt files in the output location\n",
      "icc: remark #10397: optimization reports are generated in *.optrpt files in the output location\n",
      "icc: remark #10397: optimization reports are generated in *.optrpt files in the output location\n",
      "icc: remark #10397: optimization reports are generated in *.optrpt files in the output location\n"
     ]
    },
    {
     "name": "stdout",
     "output_type": "stream",
     "text": [
      "icc: remark #10397: optimization reports are generated in *.optrpt files in the output location\n",
      "icc: remark #10397: optimization reports are generated in *.optrpt files in the output location\n",
      "icc: remark #10397: optimization reports are generated in *.optrpt files in the output location\n",
      "perf stat ./cloud 4096 100 1.e-4 100. 1. 50.3503 1.\n",
      "[./cloud] NUM_POINTS=4096, NUM_STEPS=100, CHUNK_SIZE=100, DT=0.0001, K=100, D=1, L=50.3503, R=1\n",
      "With 4096 particles of radius 1 and a box width of 50.350300, the volume fraction is 0.134413.\n",
      "The interaction volume is 33.5103, so we expect 1.07531 interactions per particle, 2202.23 overall.\n",
      "\n",
      " Performance counter stats for './cloud 4096 100 1.e-4 100. 1. 50.3503 1.':\n",
      "\n",
      "        189.562759      task-clock (msec)         #    0.991 CPUs utilized          \n",
      "                31      context-switches          #    0.164 K/sec                  \n",
      "                 0      cpu-migrations            #    0.000 K/sec                  \n",
      "               670      page-faults               #    0.004 M/sec                  \n",
      "       617,358,552      cycles                    #    3.257 GHz                    \n",
      "   <not supported>      stalled-cycles-frontend  \n",
      "   <not supported>      stalled-cycles-backend   \n",
      "       987,680,374      instructions              #    1.60  insns per cycle        \n",
      "        63,764,166      branches                  #  336.375 M/sec                  \n",
      "         1,634,644      branch-misses             #    2.56% of all branches        \n",
      "\n",
      "       0.191195612 seconds time elapsed\n",
      "\n",
      "make --silent clean\n",
      "make --silent cloud\n",
      "icc: remark #10397: optimization reports are generated in *.optrpt files in the output location\n",
      "icc: remark #10397: optimization reports are generated in *.optrpt files in the output location\n",
      "icc: remark #10397: optimization reports are generated in *.optrpt files in the output location\n",
      "icc: remark #10397: optimization reports are generated in *.optrpt files in the output location\n",
      "icc: remark #10397: optimization reports are generated in *.optrpt files in the output location\n",
      "icc: remark #10397: optimization reports are generated in *.optrpt files in the output location\n",
      "icc: remark #10397: optimization reports are generated in *.optrpt files in the output location\n",
      "perf stat ./cloud 8192 25 1.e-4 100. 1. 63.4227 1.\n",
      "[./cloud] NUM_POINTS=8192, NUM_STEPS=25, CHUNK_SIZE=25, DT=0.0001, K=100, D=1, L=63.4227, R=1\n",
      "With 8192 particles of radius 1 and a box width of 63.422700, the volume fraction is 0.134507.\n",
      "The interaction volume is 33.5103, so we expect 1.07605 interactions per particle, 4407.52 overall.\n",
      "\n",
      " Performance counter stats for './cloud 8192 25 1.e-4 100. 1. 63.4227 1.':\n",
      "\n",
      "        166.910048      task-clock (msec)         #    0.990 CPUs utilized          \n",
      "                32      context-switches          #    0.192 K/sec                  \n",
      "                 0      cpu-migrations            #    0.000 K/sec                  \n",
      "               757      page-faults               #    0.005 M/sec                  \n",
      "       541,449,078      cycles                    #    3.244 GHz                    \n",
      "   <not supported>      stalled-cycles-frontend  \n",
      "   <not supported>      stalled-cycles-backend   \n",
      "       894,366,272      instructions              #    1.65  insns per cycle        \n",
      "        56,770,949      branches                  #  340.129 M/sec                  \n",
      "         1,122,555      branch-misses             #    1.98% of all branches        \n",
      "\n",
      "       0.168551113 seconds time elapsed\n",
      "\n"
     ]
    }
   ],
   "source": [
    "for N_p in 1 2 4 8 16 32; do\n",
    "  this_L=`echo \"$N_p 0.333 20.\" | awk '{ print ($3 * $1^$2); }'`\n",
    "  this_T=`echo \"$N_p 25600\" | awk '{ print ($2 / ($1 * $1)); }'`\n",
    "  make runcloud NP=$(( 256*$N_p )) L=$this_L NT=$this_T PERF=\"perf stat\"\n",
    "done"
   ]
  },
  {
   "cell_type": "markdown",
   "metadata": {},
   "source": [
    "However, you code must still be correct:  an effective diffusion coefficient can be computed for the type of particles you are simulating.  The following diffusion coefficient calculation should stay in the range of 0.77-0.92:"
   ]
  },
  {
   "cell_type": "code",
   "execution_count": 18,
   "metadata": {},
   "outputs": [
    {
     "name": "stdout",
     "output_type": "stream",
     "text": [
      "make --silent clean\n",
      "make --silent cloud\n",
      "icc: remark #10397: optimization reports are generated in *.optrpt files in the output location\n",
      "icc: remark #10397: optimization reports are generated in *.optrpt files in the output location\n",
      "icc: remark #10397: optimization reports are generated in *.optrpt files in the output location\n",
      "icc: remark #10397: optimization reports are generated in *.optrpt files in the output location\n",
      "icc: remark #10397: optimization reports are generated in *.optrpt files in the output location\n",
      "icc: remark #10397: optimization reports are generated in *.optrpt files in the output location\n",
      "icc: remark #10397: optimization reports are generated in *.optrpt files in the output location\n",
      "./cloud 512 51000 1.e-4 100. 1. 25.198421 1. 1000 check | python3 check.py\n",
      "Diffusion constant: [ 0.87661188]\n"
     ]
    }
   ],
   "source": [
    "make checkcloud NP=512 L=25.198421 NT=51000 CHUNK=1000"
   ]
  },
  {
   "cell_type": "markdown",
   "metadata": {},
   "source": [
    "## Grading\n",
    "\n",
    "### 4 pts: Hassle-free usage: if the bash script that is generated by `jupyter convert` from this notebook runs without issue\n",
    "\n",
    "### 6 pts: For code that correctly parallelizes all critical kernels (including the binning calculations in `interactions.c`)\n",
    " \n",
    "- A correct diffusion coefficient is required for correctness\n",
    "- If your code is not correct, points can be salvaged with *legible code* that describes what changes you are making\n",
    "\n",
    "### 6 pts: Speed.  Any (correct) code that is the fastest on one of the benchmark problem sizes (for the node type you have selected) automatically gets 6 pts.  Code that does not outperform the initial version on any benchmark gets no points.  1 point will be available for each benchmark problem that shows non-trivial improvements in performance.\n",
    "\n",
    "**Significant improvement is defined by the following speedups for the benchmark problems:**\n",
    "\n",
    "- `N_p = 1`: 2x\n",
    "- `N_p = 2`: 5x\n",
    "- `N_p = 4, 8, 16, 32`: 9x\n",
    "\n",
    "### 4 pts: Report.  In a cell below this one, describe the optimizations that you made and why you made them.\n",
    "\n",
    "- Full points will require evidence (such as a screenshot) from `hpctoolkit` or some other profiling utility that motivates or justifies your changes.\n",
    "- Points will be awarded for optimizations that you tried that did not work as long as you have a good explanation for why you tried them and why they didn't work."
   ]
  },
  {
   "cell_type": "markdown",
   "metadata": {},
   "source": [
    "- boxsize: 10\n",
    "- parallel: accl_ix\n",
    "- omp simd remainder\n",
    "- vector_AoS: not good\n",
    "- ixgetpairs: parallel boxes"
   ]
  },
  {
   "cell_type": "markdown",
   "metadata": {},
   "source": [
    "1. Change the size of boxsize into an optimized one: If we do not change the frequency of updating the interaction pairs,the best size should be the SMALLEST box size which fulfills the requirement that particles inside one box only interact with particles in the same box and in the nearby boxes. \n",
    "\n",
    "   Since the \"radius\" of the kind of particles is 1, based on the geometrical relationship, the optimized size of boxes should be $2\\times2\\times2$. So we changed the coefficient \"boxdim\" as\n",
    "\n",
    "$$\\frac{20}{2}\\;=\\;10$$"
   ]
  },
  {
   "cell_type": "markdown",
   "metadata": {},
   "source": [
    "2. Parallel the function of computing the forces on every particles \"accelerate_ix\": after finding the interacting pairs, the force between one pair is only related to the positions of the two particles, which is independent with other pairs. So the loop of computing forces are paralleled. \n",
    "\n",
    "   However, since there is the risk of adding forces exerted on one particle simultaneously, the code of adding forces onto the elements of the force array \"U\" are set atomic. Everytime only one thread can access to the position saving the force on a particle."
   ]
  },
  {
   "cell_type": "markdown",
   "metadata": {},
   "source": [
    "3. Change the function \"REMAINDER\" by using omp simd: A new function of computing the remainder of a number with regard to the dimension of the cell is written as \"MY_REMAINDER\" in the file \"steric.h\". The function is set under \"omp declare simd\", which let the code vecotrized better."
   ]
  },
  {
   "cell_type": "markdown",
   "metadata": {},
   "source": [
    "4. Not using AoS: Both the structure of saving the positions of particles AoS and SA were tried. Using SA is quicker than AoS."
   ]
  },
  {
   "cell_type": "markdown",
   "metadata": {},
   "source": [
    "## Advice\n",
    "\n",
    "- **My experience in the past:** Detailed git histories are correlated with better performance!\n",
    "- **Understand your code before you try to change it:**\n",
    "    - In addition to profiling utilities, it might be useful to add timers to\n",
    "      individual routines.  The division of the program into objects that control\n",
    "      different aspects of the code should make easy to, say, add a timer\n",
    "      in one place without changing the whole program.\n",
    "- **Simple problem parameters that can be changed:**\n",
    "    - The number of boxes per dimension\n",
    "    - The layout of vectors (array-of-structures or structure of arrays? see `vector.h`)\n",
    "    - The data structures used to assign particles to boxes (is a linked-list really best)?\n",
    "- **Avoid memory and other resource contention:**\n",
    "    - Anytime multiple threads are trying to write to locations close to each\n",
    "      other, it makes it difficult and expensive to make sure each thread has\n",
    "      an up-to-date copy of the memory that is changing.  This would happen,\n",
    "      for example, if many threads are writing to the `pairs` list in\n",
    "      the interactions routine.  Consider allocating a separate workspace for\n",
    "      each thread by, for example, giving each thread its own `pairs` array.\n",
    "      Then, once all threads are done computing their pairs, you can combine\n",
    "      the separate arrays into one array, or even change the interface of the\n",
    "      `interactions()` function so that it is multiple lists are returned.\n",
    "- **Find ways to avoid recomputing from scratch:**\n",
    "    - Can you use the layout of the particles from the last time step to help you\n",
    "      bin or find pairs in the next time step?\n",
    "- **You get to choose how many threads we use to evaluate your code:**\n",
    "    - There's nothing inherently wrong with achieving your best performance\n",
    "      using fewer than the maximum number of threads available on a node.  The\n",
    "      problem may simply not have enough concurrency to support every thread.\n",
    "- **Read through these performance slides for ideas:** [From Archer](https://www.archer.ac.uk/training/course-material/2015/12/ShMem_OpenMP_York/Slides/L09-performance.pdf)\n",
    "- **Reread the molecular dynamic notes from Prof. Chow to make sure you understand what we're trying to accomplish:** [Molecular dynamics and cell lists](https://www.cc.gatech.edu/%7Eechow/ipcc/hpc-course/05_celllist.pdf)"
   ]
  },
  {
   "cell_type": "markdown",
   "metadata": {},
   "source": [
    "Hint:\n",
    "- optimizations: algorithmic vs inpl\n",
    "    - box size\n",
    "        - small box size have fewer particle size\n",
    "        - big box have small overhead\n",
    "    - when to recompute box list\n",
    "        - if box size is big enough, box could be valid in next time step\n",
    "\n",
    "\n",
    "simd length: 256 bits (4 double)"
   ]
  },
  {
   "cell_type": "code",
   "execution_count": null,
   "metadata": {},
   "outputs": [],
   "source": []
  }
 ],
 "metadata": {
  "kernelspec": {
   "display_name": "Bash",
   "language": "bash",
   "name": "bash"
  },
  "language_info": {
   "codemirror_mode": "shell",
   "file_extension": ".sh",
   "mimetype": "text/x-sh",
   "name": "bash"
  }
 },
 "nbformat": 4,
 "nbformat_minor": 2
}
