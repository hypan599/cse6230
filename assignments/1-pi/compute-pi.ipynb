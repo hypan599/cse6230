{
 "cells": [
  {
   "cell_type": "markdown",
   "metadata": {},
   "source": [
    "# Parallel Computation of $\\pi$\n",
    "\n",
    "This is a short exercise in performance modeling, based on what we saw in the introductory slides.\n",
    "\n",
    "Due: **9:30 am (before class), Tuesday, August 27.**  Submit your answers to canvas.  You can submit them either as a pdf, or by inserting your answers as cells into this notebook and submitting the notebook.\n",
    "\n",
    "When we want to compare two algorithms $f$ and $g$ that do the same thing, we look at their runtimes, which will be functions\n",
    "with parameters, such as the problem size $N$ and the number of processes working together $P$.\n",
    "\n",
    "Sometimes we will find that one algorithm dominates the other: that $T_f(N,P) < T_g(N,P)$ for all $N$ and all $P$.  \n",
    "Most of the time, however, neither algorithm is dominant, and we start to ask questions, like \"when (for what values of $N$ and $P$) is $T_f$ less than $T_g$?\"  This exercise tries to familiarize you with that sort of thinking.\n",
    "\n",
    "---"
   ]
  },
  {
   "cell_type": "markdown",
   "metadata": {},
   "source": [
    "Suppose I care about computing $N$ digits of $\\pi$, and I have two pseudocode algorithms available.\n",
    "\n",
    "The first (roughly corresponding to [Borwein's quadratic algorithm](https://en.wikipedia.org/wiki/Borwein%27s_algorithm#Quadratic_convergence_(1984)) looks like the following:"
   ]
  },
  {
   "cell_type": "code",
   "execution_count": null,
   "metadata": {},
   "outputs": [],
   "source": [
    "from numpy import log2\n",
    "\n",
    "def f(N):\n",
    "    a, b, p = A()\n",
    "    for i in range(int(log2(N))):\n",
    "        a_new = B(a,b)\n",
    "        b_new = C(a,b)\n",
    "        p_new = D(a_new, b_new, p)\n",
    "        a, b, p = (a_new, b_new, p_new)\n",
    "    return p"
   ]
  },
  {
   "cell_type": "markdown",
   "metadata": {},
   "source": [
    "Suppose that the only things that take time in this algorithm are the functions `A`, `B`, `C`, and `D`, and that $T_A = 11$, $T_B = 21$, $T_C = 13$ and $T_D = 13$.\n",
    "\n",
    "**1 (1 pt).** What is $T_f(N, 1)$, the time it takes one process to run `f`?"
   ]
  },
  {
   "cell_type": "markdown",
   "metadata": {},
   "source": [
    "**2.** Suppose that multiple threads can divide up the operations in `f` and work in parallel without interfering with each other (but of course an operation can't begin until its inputs are available).\n",
    "\n",
    "  **a (1 pt).** What is the degree of concurrency in `f` (how many processes can collaborate on `f` before there is no more work to do)?"
   ]
  },
  {
   "cell_type": "markdown",
   "metadata": {},
   "source": [
    "  **b (1 pt)**. Using this model, what is the smallest value of $T_f(N,P)$ over all $P$?"
   ]
  },
  {
   "cell_type": "markdown",
   "metadata": {},
   "source": [
    "The next algorithm (roughly corresponding to [Gregory's series](https://en.wikipedia.org/wiki/Gregory%27s_series)) looks like this:"
   ]
  },
  {
   "cell_type": "code",
   "execution_count": null,
   "metadata": {},
   "outputs": [],
   "source": [
    "def g(N):\n",
    "    p = 0.\n",
    "    for i in range(N**2):\n",
    "        p = p + E(i)\n",
    "    return p"
   ]
  },
  {
   "cell_type": "markdown",
   "metadata": {},
   "source": [
    "Suppose that the only thing that takes time in this algorithm are $E$ and addition, and that $T_E = 10$ and $T_+ = 1$."
   ]
  },
  {
   "cell_type": "markdown",
   "metadata": {},
   "source": [
    "**3 (1 pt).** What is $T_g(N,1)$, the time it takes one process to run `g`?"
   ]
  },
  {
   "cell_type": "markdown",
   "metadata": {},
   "source": [
    "**4.** With the same rules of parallelism as before,\n",
    "\n",
    "  **a (1 pt).** What is the degree of concurrency in `g`? (Hint: assume addition is associative, that a sum like $a + b + c + d + ...$ can be done in any order)"
   ]
  },
  {
   "cell_type": "markdown",
   "metadata": {},
   "source": [
    "  **b (1 pt).** Suppose that $P$ processes, working together, can sum a list of $P$ numbers together in $T_{sum}(P) = \\log_2 P$ time.  Using this operation, what is a simple model for $T_g(N,P)$?"
   ]
  },
  {
   "cell_type": "markdown",
   "metadata": {},
   "source": [
    "  **c (1 pt).** Using this model, what is the smalles value of $T_g(N,P)$ over all $P$?"
   ]
  },
  {
   "cell_type": "markdown",
   "metadata": {},
   "source": [
    "**5 (1 pt).** Suppose we want to compute 16 digits of $\\pi$: using your models from (1) and (4) how many processes $P$ do we need before $T_g(16,P) < T_f(16,1)$?"
   ]
  },
  {
   "cell_type": "markdown",
   "metadata": {},
   "source": [
    "**(Bonus 1 pt)**. Generalize (5) and define a function $P(N)$ that estimates how many processes $P$ are needed before\n",
    "$T_g(N,P(N)) < T_f(N,1)$."
   ]
  }
 ],
 "metadata": {
  "kernelspec": {
   "display_name": "Python 3",
   "language": "python",
   "name": "python3"
  },
  "language_info": {
   "codemirror_mode": {
    "name": "ipython",
    "version": 3
   },
   "file_extension": ".py",
   "mimetype": "text/x-python",
   "name": "python",
   "nbconvert_exporter": "python",
   "pygments_lexer": "ipython3",
   "version": "3.6.8"
  }
 },
 "nbformat": 4,
 "nbformat_minor": 2
}
