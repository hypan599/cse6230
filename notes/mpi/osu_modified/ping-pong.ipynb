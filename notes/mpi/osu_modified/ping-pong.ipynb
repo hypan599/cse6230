{
 "cells": [
  {
   "cell_type": "markdown",
   "metadata": {},
   "source": [
    "# Running our Ping Pong test"
   ]
  },
  {
   "cell_type": "markdown",
   "metadata": {},
   "source": [
    "I am going to run the ping pong test with the mvapich2 MPI implementation:"
   ]
  },
  {
   "cell_type": "code",
   "execution_count": null,
   "metadata": {},
   "outputs": [],
   "source": [
    "module unload cse6230\n",
    "module load cse6230/gcc-omp-gpu"
   ]
  },
  {
   "cell_type": "code",
   "execution_count": null,
   "metadata": {},
   "outputs": [],
   "source": [
    "which mpicc"
   ]
  },
  {
   "cell_type": "markdown",
   "metadata": {},
   "source": [
    "How many cores do I have?"
   ]
  },
  {
   "cell_type": "code",
   "execution_count": null,
   "metadata": {},
   "outputs": [],
   "source": [
    "echo ${PBS_NP}"
   ]
  },
  {
   "cell_type": "markdown",
   "metadata": {},
   "source": [
    "Where are they?"
   ]
  },
  {
   "cell_type": "code",
   "execution_count": null,
   "metadata": {},
   "outputs": [],
   "source": [
    "cat ${PBS_NODEFILE} | uniq"
   ]
  },
  {
   "cell_type": "code",
   "execution_count": 1,
   "metadata": {},
   "outputs": [
    {
     "name": "stdout",
     "output_type": "stream",
     "text": [
      "rm -f *.o osu_latency\n",
      "mpicc  -g -Wall -O3 -I./ -c osu_util.c\n",
      "mpicc  -g -Wall -O3 -I./ -c osu_util_mpi.c\n",
      "mpicc  -g -Wall -O3 -I./ -c osu_latency.c\n",
      "mpicc  osu_util.o osu_util_mpi.o osu_latency.o -o osu_latency\n"
     ]
    }
   ],
   "source": [
    "make clean\n",
    "make osu_latency"
   ]
  },
  {
   "cell_type": "markdown",
   "metadata": {},
   "source": [
    "Let's run the basic test:"
   ]
  },
  {
   "cell_type": "code",
   "execution_count": 2,
   "metadata": {},
   "outputs": [
    {
     "name": "stdout",
     "output_type": "stream",
     "text": [
      "MPI Version: 3.0\n",
      "Intel(R) MPI Library 5.1.1 for Linux* OS\n",
      "\n",
      "MPI # Procs: 2\n",
      "MPI Wtime 1.57106e+09, precision 1e-06\n",
      "MPI Wtime is global\n",
      "MPI proc 0 host: rich133-h35-16-l.pace.gatech.edu\n",
      "MPI proc 1 host: rich133-h35-16-l.pace.gatech.edu\n",
      "# OSU MPI Latency Test\n",
      "# Size            Latency (us)\n",
      "0                         0.65\n",
      "1                         0.66\n",
      "2                         0.66\n",
      "4                         0.65\n",
      "8                         0.65\n",
      "16                        0.65\n",
      "32                        0.67\n",
      "64                        0.72\n",
      "128                       0.76\n",
      "256                       0.76\n",
      "512                       1.02\n",
      "1024                      1.18\n",
      "2048                      1.45\n",
      "4096                      2.23\n",
      "8192                      3.64\n",
      "16384                     6.35\n",
      "32768                    11.72\n",
      "65536                    13.88\n",
      "131072                   25.26\n",
      "262144                   45.74\n",
      "524288                   86.47\n",
      "1048576                 168.52\n",
      "2097152                 333.34\n",
      "4194304                 667.05\n"
     ]
    }
   ],
   "source": [
    "mpirun -np 2 ./osu_latency"
   ]
  },
  {
   "cell_type": "markdown",
   "metadata": {},
   "source": [
    "**What are our estimates for the latency and bandwidth from this? What is the inverse bandwidth?**"
   ]
  },
  {
   "cell_type": "markdown",
   "metadata": {},
   "source": [
    "Those numbers sound similar to memory bandwidth numbers, so it sounds like MPI is taking advantage of direct memcpy between processes.  Is that true?"
   ]
  },
  {
   "cell_type": "code",
   "execution_count": null,
   "metadata": {},
   "outputs": [],
   "source": [
    "mpirun -np 2 -env MV2_USE_SHARED_MEM 0 ./osu_latency"
   ]
  },
  {
   "cell_type": "markdown",
   "metadata": {},
   "source": [
    "Let's make sure we have control over where processes go with pinning (like OpenMP affinity):"
   ]
  },
  {
   "cell_type": "code",
   "execution_count": null,
   "metadata": {},
   "outputs": [],
   "source": [
    "mpirun -np 2 -env MV2_USE_SHARED_MEM 1 -env MV2_ENABLE_AFFINITY 1 ./osu_latency"
   ]
  },
  {
   "cell_type": "markdown",
   "metadata": {},
   "source": [
    "Now what if I run with 28 processes (the number of cores on one node)? 112 (the number of cores on all nodes)?"
   ]
  },
  {
   "cell_type": "code",
   "execution_count": null,
   "metadata": {},
   "outputs": [],
   "source": [
    "mpirun -np 28 -env MV2_USE_SHARED_MEM 1 -env MV2_ENABLE_AFFINITY 1 ./osu_latency | tail -n 25"
   ]
  },
  {
   "cell_type": "code",
   "execution_count": null,
   "metadata": {},
   "outputs": [],
   "source": [
    "mpirun -np 112 -env MV2_USE_SHARED_MEM 1 -env MV2_ENABLE_AFFINITY 1 ./osu_latency | tail -n 25"
   ]
  },
  {
   "cell_type": "markdown",
   "metadata": {},
   "source": [
    "All of the ping-pongs so far have been between rank 0 and rank 1.  With affinity, these are in the same NUMA domain.  What if I ping-pong between other ranks?"
   ]
  },
  {
   "cell_type": "code",
   "execution_count": null,
   "metadata": {},
   "outputs": [],
   "source": [
    "mpirun -np 112 -env MV2_USE_SHARED_MEM 1 -env MV2_ENABLE_AFFINITY 1 ./osu_latency 0 14 | tail -n 25"
   ]
  },
  {
   "cell_type": "code",
   "execution_count": null,
   "metadata": {},
   "outputs": [],
   "source": [
    "mpirun -np 112 -env MV2_USE_SHARED_MEM 1 -env MV2_ENABLE_AFFINITY 1 ./osu_latency 0 28 | tail -n 25"
   ]
  },
  {
   "cell_type": "code",
   "execution_count": null,
   "metadata": {},
   "outputs": [],
   "source": [
    "mpirun -np 112 -env MV2_USE_SHARED_MEM 1 -env MV2_ENABLE_AFFINITY 1 ./osu_latency 0 111 | tail -n 25"
   ]
  },
  {
   "cell_type": "code",
   "execution_count": null,
   "metadata": {},
   "outputs": [],
   "source": [
    "mpirun -np 112 -env MV2_USE_SHARED_MEM 1 -env MV2_ENABLE_AFFINITY 1 ./osu_latency 27 111 | tail -n 25"
   ]
  }
 ],
 "metadata": {
  "kernelspec": {
   "display_name": "Bash",
   "language": "bash",
   "name": "bash"
  },
  "language_info": {
   "codemirror_mode": "shell",
   "file_extension": ".sh",
   "mimetype": "text/x-sh",
   "name": "bash"
  }
 },
 "nbformat": 4,
 "nbformat_minor": 2
}
